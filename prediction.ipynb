{
 "cells": [
  {
   "cell_type": "code",
   "execution_count": 1,
   "metadata": {},
   "outputs": [],
   "source": [
    "import numpy as np\n",
    "import pandas as pd\n",
    "import seaborn as sns\n",
    "import matplotlib.pyplot as plt\n",
    "import plotly.express as px"
   ]
  },
  {
   "cell_type": "code",
   "execution_count": 2,
   "metadata": {},
   "outputs": [],
   "source": [
    "df = pd.read_parquet('gt2011-gt2015.parquet')"
   ]
  },
  {
   "cell_type": "code",
   "execution_count": 3,
   "metadata": {},
   "outputs": [
    {
     "data": {
      "text/html": [
       "<div>\n",
       "<style scoped>\n",
       "    .dataframe tbody tr th:only-of-type {\n",
       "        vertical-align: middle;\n",
       "    }\n",
       "\n",
       "    .dataframe tbody tr th {\n",
       "        vertical-align: top;\n",
       "    }\n",
       "\n",
       "    .dataframe thead th {\n",
       "        text-align: right;\n",
       "    }\n",
       "</style>\n",
       "<table border=\"1\" class=\"dataframe\">\n",
       "  <thead>\n",
       "    <tr style=\"text-align: right;\">\n",
       "      <th></th>\n",
       "      <th>AT</th>\n",
       "      <th>AP</th>\n",
       "      <th>AH</th>\n",
       "      <th>AFDP</th>\n",
       "      <th>GTEP</th>\n",
       "      <th>TIT</th>\n",
       "      <th>TAT</th>\n",
       "      <th>TEY</th>\n",
       "      <th>CDP</th>\n",
       "      <th>CO</th>\n",
       "      <th>NOX</th>\n",
       "      <th>Datetime</th>\n",
       "    </tr>\n",
       "  </thead>\n",
       "  <tbody>\n",
       "    <tr>\n",
       "      <th>0</th>\n",
       "      <td>4.5878</td>\n",
       "      <td>1018.7</td>\n",
       "      <td>83.675</td>\n",
       "      <td>3.5758</td>\n",
       "      <td>23.979</td>\n",
       "      <td>1086.2</td>\n",
       "      <td>549.83</td>\n",
       "      <td>134.67</td>\n",
       "      <td>11.898</td>\n",
       "      <td>0.32663</td>\n",
       "      <td>81.952</td>\n",
       "      <td>2011-01-01 00:00:00</td>\n",
       "    </tr>\n",
       "    <tr>\n",
       "      <th>1</th>\n",
       "      <td>4.2932</td>\n",
       "      <td>1018.3</td>\n",
       "      <td>84.235</td>\n",
       "      <td>3.5709</td>\n",
       "      <td>23.951</td>\n",
       "      <td>1086.1</td>\n",
       "      <td>550.05</td>\n",
       "      <td>134.67</td>\n",
       "      <td>11.892</td>\n",
       "      <td>0.44784</td>\n",
       "      <td>82.377</td>\n",
       "      <td>2011-01-01 01:10:55</td>\n",
       "    </tr>\n",
       "    <tr>\n",
       "      <th>2</th>\n",
       "      <td>3.9045</td>\n",
       "      <td>1018.4</td>\n",
       "      <td>84.858</td>\n",
       "      <td>3.5828</td>\n",
       "      <td>23.990</td>\n",
       "      <td>1086.5</td>\n",
       "      <td>550.19</td>\n",
       "      <td>135.10</td>\n",
       "      <td>12.042</td>\n",
       "      <td>0.45144</td>\n",
       "      <td>83.776</td>\n",
       "      <td>2011-01-01 02:21:50</td>\n",
       "    </tr>\n",
       "    <tr>\n",
       "      <th>3</th>\n",
       "      <td>3.7436</td>\n",
       "      <td>1018.3</td>\n",
       "      <td>85.434</td>\n",
       "      <td>3.5808</td>\n",
       "      <td>23.911</td>\n",
       "      <td>1086.5</td>\n",
       "      <td>550.17</td>\n",
       "      <td>135.03</td>\n",
       "      <td>11.990</td>\n",
       "      <td>0.23107</td>\n",
       "      <td>82.505</td>\n",
       "      <td>2011-01-01 03:32:45</td>\n",
       "    </tr>\n",
       "    <tr>\n",
       "      <th>4</th>\n",
       "      <td>3.7516</td>\n",
       "      <td>1017.8</td>\n",
       "      <td>85.182</td>\n",
       "      <td>3.5781</td>\n",
       "      <td>23.917</td>\n",
       "      <td>1085.9</td>\n",
       "      <td>550.00</td>\n",
       "      <td>134.67</td>\n",
       "      <td>11.910</td>\n",
       "      <td>0.26747</td>\n",
       "      <td>82.028</td>\n",
       "      <td>2011-01-01 04:43:40</td>\n",
       "    </tr>\n",
       "    <tr>\n",
       "      <th>...</th>\n",
       "      <td>...</td>\n",
       "      <td>...</td>\n",
       "      <td>...</td>\n",
       "      <td>...</td>\n",
       "      <td>...</td>\n",
       "      <td>...</td>\n",
       "      <td>...</td>\n",
       "      <td>...</td>\n",
       "      <td>...</td>\n",
       "      <td>...</td>\n",
       "      <td>...</td>\n",
       "      <td>...</td>\n",
       "    </tr>\n",
       "    <tr>\n",
       "      <th>36728</th>\n",
       "      <td>3.6268</td>\n",
       "      <td>1028.5</td>\n",
       "      <td>93.200</td>\n",
       "      <td>3.1661</td>\n",
       "      <td>19.087</td>\n",
       "      <td>1037.0</td>\n",
       "      <td>541.59</td>\n",
       "      <td>109.08</td>\n",
       "      <td>10.411</td>\n",
       "      <td>10.99300</td>\n",
       "      <td>89.172</td>\n",
       "      <td>2015-12-31 18:21:49</td>\n",
       "    </tr>\n",
       "    <tr>\n",
       "      <th>36729</th>\n",
       "      <td>4.1674</td>\n",
       "      <td>1028.6</td>\n",
       "      <td>94.036</td>\n",
       "      <td>3.1923</td>\n",
       "      <td>19.016</td>\n",
       "      <td>1037.6</td>\n",
       "      <td>542.28</td>\n",
       "      <td>108.79</td>\n",
       "      <td>10.344</td>\n",
       "      <td>11.14400</td>\n",
       "      <td>88.849</td>\n",
       "      <td>2015-12-31 19:33:00</td>\n",
       "    </tr>\n",
       "    <tr>\n",
       "      <th>36730</th>\n",
       "      <td>5.4820</td>\n",
       "      <td>1028.5</td>\n",
       "      <td>95.219</td>\n",
       "      <td>3.3128</td>\n",
       "      <td>18.857</td>\n",
       "      <td>1038.0</td>\n",
       "      <td>543.48</td>\n",
       "      <td>107.81</td>\n",
       "      <td>10.462</td>\n",
       "      <td>11.41400</td>\n",
       "      <td>96.147</td>\n",
       "      <td>2015-12-31 20:44:11</td>\n",
       "    </tr>\n",
       "    <tr>\n",
       "      <th>36731</th>\n",
       "      <td>5.8837</td>\n",
       "      <td>1028.7</td>\n",
       "      <td>94.200</td>\n",
       "      <td>3.9831</td>\n",
       "      <td>23.563</td>\n",
       "      <td>1076.9</td>\n",
       "      <td>550.11</td>\n",
       "      <td>131.41</td>\n",
       "      <td>11.771</td>\n",
       "      <td>3.31340</td>\n",
       "      <td>64.738</td>\n",
       "      <td>2015-12-31 21:55:22</td>\n",
       "    </tr>\n",
       "    <tr>\n",
       "      <th>36732</th>\n",
       "      <td>6.0392</td>\n",
       "      <td>1028.8</td>\n",
       "      <td>94.547</td>\n",
       "      <td>3.8752</td>\n",
       "      <td>22.524</td>\n",
       "      <td>1067.9</td>\n",
       "      <td>548.23</td>\n",
       "      <td>125.41</td>\n",
       "      <td>11.462</td>\n",
       "      <td>11.98100</td>\n",
       "      <td>109.240</td>\n",
       "      <td>2015-12-31 23:06:33</td>\n",
       "    </tr>\n",
       "  </tbody>\n",
       "</table>\n",
       "<p>36733 rows × 12 columns</p>\n",
       "</div>"
      ],
      "text/plain": [
       "           AT      AP      AH    AFDP    GTEP     TIT     TAT     TEY     CDP  \\\n",
       "0      4.5878  1018.7  83.675  3.5758  23.979  1086.2  549.83  134.67  11.898   \n",
       "1      4.2932  1018.3  84.235  3.5709  23.951  1086.1  550.05  134.67  11.892   \n",
       "2      3.9045  1018.4  84.858  3.5828  23.990  1086.5  550.19  135.10  12.042   \n",
       "3      3.7436  1018.3  85.434  3.5808  23.911  1086.5  550.17  135.03  11.990   \n",
       "4      3.7516  1017.8  85.182  3.5781  23.917  1085.9  550.00  134.67  11.910   \n",
       "...       ...     ...     ...     ...     ...     ...     ...     ...     ...   \n",
       "36728  3.6268  1028.5  93.200  3.1661  19.087  1037.0  541.59  109.08  10.411   \n",
       "36729  4.1674  1028.6  94.036  3.1923  19.016  1037.6  542.28  108.79  10.344   \n",
       "36730  5.4820  1028.5  95.219  3.3128  18.857  1038.0  543.48  107.81  10.462   \n",
       "36731  5.8837  1028.7  94.200  3.9831  23.563  1076.9  550.11  131.41  11.771   \n",
       "36732  6.0392  1028.8  94.547  3.8752  22.524  1067.9  548.23  125.41  11.462   \n",
       "\n",
       "             CO      NOX            Datetime  \n",
       "0       0.32663   81.952 2011-01-01 00:00:00  \n",
       "1       0.44784   82.377 2011-01-01 01:10:55  \n",
       "2       0.45144   83.776 2011-01-01 02:21:50  \n",
       "3       0.23107   82.505 2011-01-01 03:32:45  \n",
       "4       0.26747   82.028 2011-01-01 04:43:40  \n",
       "...         ...      ...                 ...  \n",
       "36728  10.99300   89.172 2015-12-31 18:21:49  \n",
       "36729  11.14400   88.849 2015-12-31 19:33:00  \n",
       "36730  11.41400   96.147 2015-12-31 20:44:11  \n",
       "36731   3.31340   64.738 2015-12-31 21:55:22  \n",
       "36732  11.98100  109.240 2015-12-31 23:06:33  \n",
       "\n",
       "[36733 rows x 12 columns]"
      ]
     },
     "execution_count": 3,
     "metadata": {},
     "output_type": "execute_result"
    }
   ],
   "source": [
    "df"
   ]
  },
  {
   "cell_type": "code",
   "execution_count": 5,
   "metadata": {},
   "outputs": [
    {
     "data": {
      "text/html": [
       "<div>\n",
       "<style scoped>\n",
       "    .dataframe tbody tr th:only-of-type {\n",
       "        vertical-align: middle;\n",
       "    }\n",
       "\n",
       "    .dataframe tbody tr th {\n",
       "        vertical-align: top;\n",
       "    }\n",
       "\n",
       "    .dataframe thead th {\n",
       "        text-align: right;\n",
       "    }\n",
       "</style>\n",
       "<table border=\"1\" class=\"dataframe\">\n",
       "  <thead>\n",
       "    <tr style=\"text-align: right;\">\n",
       "      <th></th>\n",
       "      <th>AT</th>\n",
       "      <th>AP</th>\n",
       "      <th>AH</th>\n",
       "      <th>AFDP</th>\n",
       "      <th>GTEP</th>\n",
       "      <th>TIT</th>\n",
       "      <th>TAT</th>\n",
       "      <th>TEY</th>\n",
       "      <th>CDP</th>\n",
       "      <th>CO</th>\n",
       "      <th>NOX</th>\n",
       "    </tr>\n",
       "  </thead>\n",
       "  <tbody>\n",
       "    <tr>\n",
       "      <th>count</th>\n",
       "      <td>36733.000000</td>\n",
       "      <td>36733.000000</td>\n",
       "      <td>36733.000000</td>\n",
       "      <td>36733.000000</td>\n",
       "      <td>36733.000000</td>\n",
       "      <td>36733.000000</td>\n",
       "      <td>36733.000000</td>\n",
       "      <td>36733.000000</td>\n",
       "      <td>36733.000000</td>\n",
       "      <td>36733.000000</td>\n",
       "      <td>36733.000000</td>\n",
       "    </tr>\n",
       "    <tr>\n",
       "      <th>mean</th>\n",
       "      <td>17.712726</td>\n",
       "      <td>1013.070165</td>\n",
       "      <td>77.867015</td>\n",
       "      <td>3.925518</td>\n",
       "      <td>25.563801</td>\n",
       "      <td>1081.428084</td>\n",
       "      <td>546.158517</td>\n",
       "      <td>133.506404</td>\n",
       "      <td>12.060525</td>\n",
       "      <td>2.372468</td>\n",
       "      <td>65.293067</td>\n",
       "    </tr>\n",
       "    <tr>\n",
       "      <th>std</th>\n",
       "      <td>7.447451</td>\n",
       "      <td>6.463346</td>\n",
       "      <td>14.461355</td>\n",
       "      <td>0.773936</td>\n",
       "      <td>4.195957</td>\n",
       "      <td>17.536373</td>\n",
       "      <td>6.842360</td>\n",
       "      <td>15.618634</td>\n",
       "      <td>1.088795</td>\n",
       "      <td>2.262672</td>\n",
       "      <td>11.678357</td>\n",
       "    </tr>\n",
       "    <tr>\n",
       "      <th>min</th>\n",
       "      <td>-6.234800</td>\n",
       "      <td>985.850000</td>\n",
       "      <td>24.085000</td>\n",
       "      <td>2.087400</td>\n",
       "      <td>17.698000</td>\n",
       "      <td>1000.800000</td>\n",
       "      <td>511.040000</td>\n",
       "      <td>100.020000</td>\n",
       "      <td>9.851800</td>\n",
       "      <td>0.000388</td>\n",
       "      <td>25.905000</td>\n",
       "    </tr>\n",
       "    <tr>\n",
       "      <th>25%</th>\n",
       "      <td>11.781000</td>\n",
       "      <td>1008.800000</td>\n",
       "      <td>68.188000</td>\n",
       "      <td>3.355600</td>\n",
       "      <td>23.129000</td>\n",
       "      <td>1071.800000</td>\n",
       "      <td>544.720000</td>\n",
       "      <td>124.450000</td>\n",
       "      <td>11.435000</td>\n",
       "      <td>1.182400</td>\n",
       "      <td>57.162000</td>\n",
       "    </tr>\n",
       "    <tr>\n",
       "      <th>50%</th>\n",
       "      <td>17.801000</td>\n",
       "      <td>1012.600000</td>\n",
       "      <td>80.470000</td>\n",
       "      <td>3.937700</td>\n",
       "      <td>25.104000</td>\n",
       "      <td>1085.900000</td>\n",
       "      <td>549.880000</td>\n",
       "      <td>133.730000</td>\n",
       "      <td>11.965000</td>\n",
       "      <td>1.713500</td>\n",
       "      <td>63.849000</td>\n",
       "    </tr>\n",
       "    <tr>\n",
       "      <th>75%</th>\n",
       "      <td>23.665000</td>\n",
       "      <td>1017.000000</td>\n",
       "      <td>89.376000</td>\n",
       "      <td>4.376900</td>\n",
       "      <td>29.061000</td>\n",
       "      <td>1097.000000</td>\n",
       "      <td>550.040000</td>\n",
       "      <td>144.080000</td>\n",
       "      <td>12.855000</td>\n",
       "      <td>2.842900</td>\n",
       "      <td>71.548000</td>\n",
       "    </tr>\n",
       "    <tr>\n",
       "      <th>max</th>\n",
       "      <td>37.103000</td>\n",
       "      <td>1036.600000</td>\n",
       "      <td>100.200000</td>\n",
       "      <td>7.610600</td>\n",
       "      <td>40.716000</td>\n",
       "      <td>1100.900000</td>\n",
       "      <td>550.610000</td>\n",
       "      <td>179.500000</td>\n",
       "      <td>15.159000</td>\n",
       "      <td>44.103000</td>\n",
       "      <td>119.910000</td>\n",
       "    </tr>\n",
       "  </tbody>\n",
       "</table>\n",
       "</div>"
      ],
      "text/plain": [
       "                 AT            AP            AH          AFDP          GTEP  \\\n",
       "count  36733.000000  36733.000000  36733.000000  36733.000000  36733.000000   \n",
       "mean      17.712726   1013.070165     77.867015      3.925518     25.563801   \n",
       "std        7.447451      6.463346     14.461355      0.773936      4.195957   \n",
       "min       -6.234800    985.850000     24.085000      2.087400     17.698000   \n",
       "25%       11.781000   1008.800000     68.188000      3.355600     23.129000   \n",
       "50%       17.801000   1012.600000     80.470000      3.937700     25.104000   \n",
       "75%       23.665000   1017.000000     89.376000      4.376900     29.061000   \n",
       "max       37.103000   1036.600000    100.200000      7.610600     40.716000   \n",
       "\n",
       "                TIT           TAT           TEY           CDP            CO  \\\n",
       "count  36733.000000  36733.000000  36733.000000  36733.000000  36733.000000   \n",
       "mean    1081.428084    546.158517    133.506404     12.060525      2.372468   \n",
       "std       17.536373      6.842360     15.618634      1.088795      2.262672   \n",
       "min     1000.800000    511.040000    100.020000      9.851800      0.000388   \n",
       "25%     1071.800000    544.720000    124.450000     11.435000      1.182400   \n",
       "50%     1085.900000    549.880000    133.730000     11.965000      1.713500   \n",
       "75%     1097.000000    550.040000    144.080000     12.855000      2.842900   \n",
       "max     1100.900000    550.610000    179.500000     15.159000     44.103000   \n",
       "\n",
       "                NOX  \n",
       "count  36733.000000  \n",
       "mean      65.293067  \n",
       "std       11.678357  \n",
       "min       25.905000  \n",
       "25%       57.162000  \n",
       "50%       63.849000  \n",
       "75%       71.548000  \n",
       "max      119.910000  "
      ]
     },
     "execution_count": 5,
     "metadata": {},
     "output_type": "execute_result"
    }
   ],
   "source": [
    "df.describe()"
   ]
  },
  {
   "cell_type": "code",
   "execution_count": 6,
   "metadata": {},
   "outputs": [
    {
     "data": {
      "text/plain": [
       "<AxesSubplot:xlabel='NOX', ylabel='Count'>"
      ]
     },
     "execution_count": 6,
     "metadata": {},
     "output_type": "execute_result"
    },
    {
     "data": {
      "image/png": "[encoded data removed]",
      "text/plain": [
       "<Figure size 432x288 with 1 Axes>"
      ]
     },
     "metadata": {
      "needs_background": "light"
     },
     "output_type": "display_data"
    }
   ],
   "source": [
    "sns.histplot(df, x='NOX', bins=20)"
   ]
  },
  {
   "cell_type": "code",
   "execution_count": 7,
   "metadata": {},
   "outputs": [
    {
     "data": {
      "text/plain": [
       "<AxesSubplot:xlabel='CO', ylabel='Count'>"
      ]
     },
     "execution_count": 7,
     "metadata": {},
     "output_type": "execute_result"
    },
    {
     "data": {
      "image/png": "[encoded data removed]",
      "text/plain": [
       "<Figure size 432x288 with 1 Axes>"
      ]
     },
     "metadata": {
      "needs_background": "light"
     },
     "output_type": "display_data"
    }
   ],
   "source": [
    "sns.histplot(df, x='CO', bins=54)"
   ]
  },
  {
   "cell_type": "code",
   "execution_count": 8,
   "metadata": {},
   "outputs": [
    {
     "data": {
      "image/png": "[encoded data removed]",
      "text/plain": [
       "<Figure size 720x576 with 2 Axes>"
      ]
     },
     "metadata": {
      "needs_background": "light"
     },
     "output_type": "display_data"
    }
   ],
   "source": [
    "\n",
    "plt.figure(figsize=(10, 8))\n",
    "\n",
    "mask = np.triu(np.ones_like(df.drop(columns=['CO','NOX']).corr()))\n",
    "\n",
    "heatmap = sns.heatmap(df.drop(columns=['CO','NOX']).corr(),  vmin=-1, vmax=1, annot=True)\n",
    "\n",
    "heatmap.set_title('Correlation matrix of input variables', fontdict={'fontsize':18}, pad=16);"
   ]
  },
  {
   "cell_type": "code",
   "execution_count": 9,
   "metadata": {},
   "outputs": [
    {
     "data": {
      "text/html": [
       "<style  type=\"text/css\" >\n",
       "#T_b444d_row0_col0{\n",
       "            background-color:  #f2badc;\n",
       "            color:  #000000;\n",
       "        }#T_b444d_row0_col1{\n",
       "            background-color:  #bd1777;\n",
       "            color:  #f1f1f1;\n",
       "        }#T_b444d_row1_col0{\n",
       "            background-color:  #faecf3;\n",
       "            color:  #000000;\n",
       "        }#T_b444d_row1_col1{\n",
       "            background-color:  #f3f6ed;\n",
       "            color:  #000000;\n",
       "        }#T_b444d_row2_col0{\n",
       "            background-color:  #f9f1f5;\n",
       "            color:  #000000;\n",
       "        }#T_b444d_row2_col1{\n",
       "            background-color:  #f5f7f3;\n",
       "            color:  #000000;\n",
       "        }#T_b444d_row3_col0{\n",
       "            background-color:  #d14895;\n",
       "            color:  #000000;\n",
       "        }#T_b444d_row3_col1{\n",
       "            background-color:  #f1b7da;\n",
       "            color:  #000000;\n",
       "        }#T_b444d_row4_col0{\n",
       "            background-color:  #c72482;\n",
       "            color:  #f1f1f1;\n",
       "        }#T_b444d_row4_col1{\n",
       "            background-color:  #f0b2d7;\n",
       "            color:  #000000;\n",
       "        }#T_b444d_row5_col0{\n",
       "            background-color:  #8e0152;\n",
       "            color:  #f1f1f1;\n",
       "        }#T_b444d_row5_col1{\n",
       "            background-color:  #eeadd4;\n",
       "            color:  #000000;\n",
       "        }#T_b444d_row6_col0{\n",
       "            background-color:  #faebf3;\n",
       "            color:  #000000;\n",
       "        }#T_b444d_row6_col1{\n",
       "            background-color:  #f8cee6;\n",
       "            color:  #000000;\n",
       "        }#T_b444d_row7_col0{\n",
       "            background-color:  #b91574;\n",
       "            color:  #f1f1f1;\n",
       "        }#T_b444d_row7_col1{\n",
       "            background-color:  #f6c9e3;\n",
       "            color:  #000000;\n",
       "        }#T_b444d_row8_col0{\n",
       "            background-color:  #c01879;\n",
       "            color:  #f1f1f1;\n",
       "        }#T_b444d_row8_col1{\n",
       "            background-color:  #f3bcdd;\n",
       "            color:  #000000;\n",
       "        }#T_b444d_row9_col0{\n",
       "            background-color:  #276419;\n",
       "            color:  #f1f1f1;\n",
       "        }#T_b444d_row9_col1{\n",
       "            background-color:  #dff2c4;\n",
       "            color:  #000000;\n",
       "        }</style><table id=\"T_b444d_\" ><thead>    <tr>        <th class=\"blank level0\" ></th>        <th class=\"col_heading level0 col0\" >CO</th>        <th class=\"col_heading level0 col1\" >NOX</th>    </tr></thead><tbody>\n",
       "                <tr>\n",
       "                        <th id=\"T_b444d_level0_row0\" class=\"row_heading level0 row0\" >AT</th>\n",
       "                        <td id=\"T_b444d_row0_col0\" class=\"data row0 col0\" >-0.174</td>\n",
       "                        <td id=\"T_b444d_row0_col1\" class=\"data row0 col1\" >-0.558</td>\n",
       "            </tr>\n",
       "            <tr>\n",
       "                        <th id=\"T_b444d_level0_row1\" class=\"row_heading level0 row1\" >AP</th>\n",
       "                        <td id=\"T_b444d_row1_col0\" class=\"data row1 col0\" >0.067</td>\n",
       "                        <td id=\"T_b444d_row1_col1\" class=\"data row1 col1\" >0.192</td>\n",
       "            </tr>\n",
       "            <tr>\n",
       "                        <th id=\"T_b444d_level0_row2\" class=\"row_heading level0 row2\" >AH</th>\n",
       "                        <td id=\"T_b444d_row2_col0\" class=\"data row2 col0\" >0.107</td>\n",
       "                        <td id=\"T_b444d_row2_col1\" class=\"data row2 col1\" >0.165</td>\n",
       "            </tr>\n",
       "            <tr>\n",
       "                        <th id=\"T_b444d_level0_row3\" class=\"row_heading level0 row3\" >AFDP</th>\n",
       "                        <td id=\"T_b444d_row3_col0\" class=\"data row3 col0\" >-0.448</td>\n",
       "                        <td id=\"T_b444d_row3_col1\" class=\"data row3 col1\" >-0.188</td>\n",
       "            </tr>\n",
       "            <tr>\n",
       "                        <th id=\"T_b444d_level0_row4\" class=\"row_heading level0 row4\" >GTEP</th>\n",
       "                        <td id=\"T_b444d_row4_col0\" class=\"data row4 col0\" >-0.519</td>\n",
       "                        <td id=\"T_b444d_row4_col1\" class=\"data row4 col1\" >-0.202</td>\n",
       "            </tr>\n",
       "            <tr>\n",
       "                        <th id=\"T_b444d_level0_row5\" class=\"row_heading level0 row5\" >TIT</th>\n",
       "                        <td id=\"T_b444d_row5_col0\" class=\"data row5 col0\" >-0.706</td>\n",
       "                        <td id=\"T_b444d_row5_col1\" class=\"data row5 col1\" >-0.214</td>\n",
       "            </tr>\n",
       "            <tr>\n",
       "                        <th id=\"T_b444d_level0_row6\" class=\"row_heading level0 row6\" >TAT</th>\n",
       "                        <td id=\"T_b444d_row6_col0\" class=\"data row6 col0\" >0.058</td>\n",
       "                        <td id=\"T_b444d_row6_col1\" class=\"data row6 col1\" >-0.093</td>\n",
       "            </tr>\n",
       "            <tr>\n",
       "                        <th id=\"T_b444d_level0_row7\" class=\"row_heading level0 row7\" >TEY</th>\n",
       "                        <td id=\"T_b444d_row7_col0\" class=\"data row7 col0\" >-0.57</td>\n",
       "                        <td id=\"T_b444d_row7_col1\" class=\"data row7 col1\" >-0.116</td>\n",
       "            </tr>\n",
       "            <tr>\n",
       "                        <th id=\"T_b444d_level0_row8\" class=\"row_heading level0 row8\" >CDP</th>\n",
       "                        <td id=\"T_b444d_row8_col0\" class=\"data row8 col0\" >-0.551</td>\n",
       "                        <td id=\"T_b444d_row8_col1\" class=\"data row8 col1\" >-0.171</td>\n",
       "            </tr>\n",
       "            <tr>\n",
       "                        <th id=\"T_b444d_level0_row9\" class=\"row_heading level0 row9\" >CO</th>\n",
       "                        <td id=\"T_b444d_row9_col0\" class=\"data row9 col0\" >1.0</td>\n",
       "                        <td id=\"T_b444d_row9_col1\" class=\"data row9 col1\" >0.341</td>\n",
       "            </tr>\n",
       "    </tbody></table>"
      ],
      "text/plain": [
       "<pandas.io.formats.style.Styler at 0x18513f11910>"
      ]
     },
     "metadata": {},
     "output_type": "display_data"
    }
   ],
   "source": [
    "CO_list = []\n",
    "NOX_list = []\n",
    "\n",
    "for column in df.columns[:-2]:\n",
    "    CO_list.append(df['CO'].corr(df[column]))\n",
    "    NOX_list.append(df['NOX'].corr(df[column]))\n",
    "corr_df = pd.DataFrame({'CO': CO_list, 'NOX': NOX_list},index=df.columns[:-2])    \n",
    "\n",
    "\n",
    "cm = sns.light_palette(\"green\", as_cmap=True)\n",
    "\n",
    "display(((corr_df).round(3)).style.background_gradient(cmap=\"PiYG\",axis=None).format(\"{:3}\"))"
   ]
  },
  {
   "cell_type": "markdown",
   "metadata": {},
   "source": [
    "# Prediction"
   ]
  },
  {
   "cell_type": "code",
   "execution_count": 10,
   "metadata": {},
   "outputs": [],
   "source": [
    "# df = df.drop(df[df['Datetime'].dt.year > 2012].index)"
   ]
  },
  {
   "cell_type": "code",
   "execution_count": null,
   "metadata": {},
   "outputs": [],
   "source": []
  },
  {
   "cell_type": "code",
   "execution_count": 11,
   "metadata": {},
   "outputs": [
    {
     "data": {
      "text/html": [
       "<div>\n",
       "<style scoped>\n",
       "    .dataframe tbody tr th:only-of-type {\n",
       "        vertical-align: middle;\n",
       "    }\n",
       "\n",
       "    .dataframe tbody tr th {\n",
       "        vertical-align: top;\n",
       "    }\n",
       "\n",
       "    .dataframe thead th {\n",
       "        text-align: right;\n",
       "    }\n",
       "</style>\n",
       "<table border=\"1\" class=\"dataframe\">\n",
       "  <thead>\n",
       "    <tr style=\"text-align: right;\">\n",
       "      <th></th>\n",
       "      <th>AT</th>\n",
       "      <th>AP</th>\n",
       "      <th>AH</th>\n",
       "      <th>AFDP</th>\n",
       "      <th>GTEP</th>\n",
       "      <th>TIT</th>\n",
       "      <th>TAT</th>\n",
       "      <th>TEY</th>\n",
       "      <th>CDP</th>\n",
       "      <th>CO</th>\n",
       "      <th>NOX</th>\n",
       "      <th>Datetime</th>\n",
       "    </tr>\n",
       "  </thead>\n",
       "  <tbody>\n",
       "    <tr>\n",
       "      <th>0</th>\n",
       "      <td>4.5878</td>\n",
       "      <td>1018.7</td>\n",
       "      <td>83.675</td>\n",
       "      <td>3.5758</td>\n",
       "      <td>23.979</td>\n",
       "      <td>1086.2</td>\n",
       "      <td>549.83</td>\n",
       "      <td>134.67</td>\n",
       "      <td>11.898</td>\n",
       "      <td>0.32663</td>\n",
       "      <td>81.952</td>\n",
       "      <td>2011-01-01 00:00:00</td>\n",
       "    </tr>\n",
       "    <tr>\n",
       "      <th>1</th>\n",
       "      <td>4.2932</td>\n",
       "      <td>1018.3</td>\n",
       "      <td>84.235</td>\n",
       "      <td>3.5709</td>\n",
       "      <td>23.951</td>\n",
       "      <td>1086.1</td>\n",
       "      <td>550.05</td>\n",
       "      <td>134.67</td>\n",
       "      <td>11.892</td>\n",
       "      <td>0.44784</td>\n",
       "      <td>82.377</td>\n",
       "      <td>2011-01-01 01:10:55</td>\n",
       "    </tr>\n",
       "    <tr>\n",
       "      <th>2</th>\n",
       "      <td>3.9045</td>\n",
       "      <td>1018.4</td>\n",
       "      <td>84.858</td>\n",
       "      <td>3.5828</td>\n",
       "      <td>23.990</td>\n",
       "      <td>1086.5</td>\n",
       "      <td>550.19</td>\n",
       "      <td>135.10</td>\n",
       "      <td>12.042</td>\n",
       "      <td>0.45144</td>\n",
       "      <td>83.776</td>\n",
       "      <td>2011-01-01 02:21:50</td>\n",
       "    </tr>\n",
       "    <tr>\n",
       "      <th>3</th>\n",
       "      <td>3.7436</td>\n",
       "      <td>1018.3</td>\n",
       "      <td>85.434</td>\n",
       "      <td>3.5808</td>\n",
       "      <td>23.911</td>\n",
       "      <td>1086.5</td>\n",
       "      <td>550.17</td>\n",
       "      <td>135.03</td>\n",
       "      <td>11.990</td>\n",
       "      <td>0.23107</td>\n",
       "      <td>82.505</td>\n",
       "      <td>2011-01-01 03:32:45</td>\n",
       "    </tr>\n",
       "    <tr>\n",
       "      <th>4</th>\n",
       "      <td>3.7516</td>\n",
       "      <td>1017.8</td>\n",
       "      <td>85.182</td>\n",
       "      <td>3.5781</td>\n",
       "      <td>23.917</td>\n",
       "      <td>1085.9</td>\n",
       "      <td>550.00</td>\n",
       "      <td>134.67</td>\n",
       "      <td>11.910</td>\n",
       "      <td>0.26747</td>\n",
       "      <td>82.028</td>\n",
       "      <td>2011-01-01 04:43:40</td>\n",
       "    </tr>\n",
       "    <tr>\n",
       "      <th>...</th>\n",
       "      <td>...</td>\n",
       "      <td>...</td>\n",
       "      <td>...</td>\n",
       "      <td>...</td>\n",
       "      <td>...</td>\n",
       "      <td>...</td>\n",
       "      <td>...</td>\n",
       "      <td>...</td>\n",
       "      <td>...</td>\n",
       "      <td>...</td>\n",
       "      <td>...</td>\n",
       "      <td>...</td>\n",
       "    </tr>\n",
       "    <tr>\n",
       "      <th>15034</th>\n",
       "      <td>10.0370</td>\n",
       "      <td>1022.1</td>\n",
       "      <td>88.531</td>\n",
       "      <td>2.9192</td>\n",
       "      <td>23.641</td>\n",
       "      <td>1083.6</td>\n",
       "      <td>549.91</td>\n",
       "      <td>132.61</td>\n",
       "      <td>11.745</td>\n",
       "      <td>1.65600</td>\n",
       "      <td>76.068</td>\n",
       "      <td>2012-12-31 19:09:18</td>\n",
       "    </tr>\n",
       "    <tr>\n",
       "      <th>15035</th>\n",
       "      <td>9.8921</td>\n",
       "      <td>1022.2</td>\n",
       "      <td>87.622</td>\n",
       "      <td>2.9415</td>\n",
       "      <td>23.859</td>\n",
       "      <td>1084.9</td>\n",
       "      <td>550.08</td>\n",
       "      <td>133.57</td>\n",
       "      <td>11.869</td>\n",
       "      <td>1.55490</td>\n",
       "      <td>74.930</td>\n",
       "      <td>2012-12-31 20:18:24</td>\n",
       "    </tr>\n",
       "    <tr>\n",
       "      <th>15036</th>\n",
       "      <td>9.8723</td>\n",
       "      <td>1022.0</td>\n",
       "      <td>86.618</td>\n",
       "      <td>2.9309</td>\n",
       "      <td>23.817</td>\n",
       "      <td>1084.8</td>\n",
       "      <td>549.99</td>\n",
       "      <td>133.50</td>\n",
       "      <td>11.914</td>\n",
       "      <td>1.40930</td>\n",
       "      <td>75.041</td>\n",
       "      <td>2012-12-31 21:27:30</td>\n",
       "    </tr>\n",
       "    <tr>\n",
       "      <th>15037</th>\n",
       "      <td>10.0260</td>\n",
       "      <td>1022.0</td>\n",
       "      <td>87.301</td>\n",
       "      <td>2.9363</td>\n",
       "      <td>23.831</td>\n",
       "      <td>1084.5</td>\n",
       "      <td>550.01</td>\n",
       "      <td>133.20</td>\n",
       "      <td>11.811</td>\n",
       "      <td>1.39630</td>\n",
       "      <td>74.460</td>\n",
       "      <td>2012-12-31 22:36:36</td>\n",
       "    </tr>\n",
       "    <tr>\n",
       "      <th>15038</th>\n",
       "      <td>10.0590</td>\n",
       "      <td>1021.8</td>\n",
       "      <td>88.012</td>\n",
       "      <td>2.4579</td>\n",
       "      <td>19.526</td>\n",
       "      <td>1047.5</td>\n",
       "      <td>542.91</td>\n",
       "      <td>111.24</td>\n",
       "      <td>10.585</td>\n",
       "      <td>8.01070</td>\n",
       "      <td>86.066</td>\n",
       "      <td>2012-12-31 23:45:42</td>\n",
       "    </tr>\n",
       "  </tbody>\n",
       "</table>\n",
       "<p>15039 rows × 12 columns</p>\n",
       "</div>"
      ],
      "text/plain": [
       "            AT      AP      AH    AFDP    GTEP     TIT     TAT     TEY  \\\n",
       "0       4.5878  1018.7  83.675  3.5758  23.979  1086.2  549.83  134.67   \n",
       "1       4.2932  1018.3  84.235  3.5709  23.951  1086.1  550.05  134.67   \n",
       "2       3.9045  1018.4  84.858  3.5828  23.990  1086.5  550.19  135.10   \n",
       "3       3.7436  1018.3  85.434  3.5808  23.911  1086.5  550.17  135.03   \n",
       "4       3.7516  1017.8  85.182  3.5781  23.917  1085.9  550.00  134.67   \n",
       "...        ...     ...     ...     ...     ...     ...     ...     ...   \n",
       "15034  10.0370  1022.1  88.531  2.9192  23.641  1083.6  549.91  132.61   \n",
       "15035   9.8921  1022.2  87.622  2.9415  23.859  1084.9  550.08  133.57   \n",
       "15036   9.8723  1022.0  86.618  2.9309  23.817  1084.8  549.99  133.50   \n",
       "15037  10.0260  1022.0  87.301  2.9363  23.831  1084.5  550.01  133.20   \n",
       "15038  10.0590  1021.8  88.012  2.4579  19.526  1047.5  542.91  111.24   \n",
       "\n",
       "          CDP       CO     NOX            Datetime  \n",
       "0      11.898  0.32663  81.952 2011-01-01 00:00:00  \n",
       "1      11.892  0.44784  82.377 2011-01-01 01:10:55  \n",
       "2      12.042  0.45144  83.776 2011-01-01 02:21:50  \n",
       "3      11.990  0.23107  82.505 2011-01-01 03:32:45  \n",
       "4      11.910  0.26747  82.028 2011-01-01 04:43:40  \n",
       "...       ...      ...     ...                 ...  \n",
       "15034  11.745  1.65600  76.068 2012-12-31 19:09:18  \n",
       "15035  11.869  1.55490  74.930 2012-12-31 20:18:24  \n",
       "15036  11.914  1.40930  75.041 2012-12-31 21:27:30  \n",
       "15037  11.811  1.39630  74.460 2012-12-31 22:36:36  \n",
       "15038  10.585  8.01070  86.066 2012-12-31 23:45:42  \n",
       "\n",
       "[15039 rows x 12 columns]"
      ]
     },
     "execution_count": 11,
     "metadata": {},
     "output_type": "execute_result"
    }
   ],
   "source": [
    "train_data = df[df['Datetime'].dt.year.isin([2011, 2012, 2013])]\n",
    "X_train, y_train = train_data[[cols]], train_data['NOX']\n",
    "test_data = df[df['Datetime'].dt.year.isin([2014, 2015])]"
   ]
  },
  {
   "cell_type": "code",
   "execution_count": 12,
   "metadata": {},
   "outputs": [],
   "source": [
    "\n",
    "from sklearn.model_selection import train_test_split\n",
    "from sklearn import metrics"
   ]
  },
  {
   "cell_type": "code",
   "execution_count": 13,
   "metadata": {},
   "outputs": [],
   "source": [
    "X = df.drop(columns=['CO','NOX'], axis=1)"
   ]
  },
  {
   "cell_type": "code",
   "execution_count": null,
   "metadata": {},
   "outputs": [],
   "source": [
    "\n"
   ]
  },
  {
   "cell_type": "code",
   "execution_count": 14,
   "metadata": {},
   "outputs": [],
   "source": [
    "# X = df[df.columns[:-2]]\n",
    "\n",
    "X = df[['GTEP','TIT','TEY','CDP']]\n",
    "\n",
    "y = df['CO']\n",
    "\n",
    "\n",
    "\n",
    "X_train, X_test, y_train, y_test = train_test_split(\n",
    "    X, y, train_size=0.65,random_state=42\n",
    ")"
   ]
  },
  {
   "cell_type": "code",
   "execution_count": 15,
   "metadata": {},
   "outputs": [
    {
     "name": "stdout",
     "output_type": "stream",
     "text": [
      "[0]\tvalidation_0-rmse:2.22878\tvalidation_1-rmse:2.01027\n",
      "[1]\tvalidation_0-rmse:1.92533\tvalidation_1-rmse:1.68562\n",
      "[2]\tvalidation_0-rmse:1.76101\tvalidation_1-rmse:1.51133\n",
      "[3]\tvalidation_0-rmse:1.68582\tvalidation_1-rmse:1.43197\n",
      "[4]\tvalidation_0-rmse:1.64717\tvalidation_1-rmse:1.39282\n",
      "[5]\tvalidation_0-rmse:1.61292\tvalidation_1-rmse:1.36425\n",
      "[6]\tvalidation_0-rmse:1.59466\tvalidation_1-rmse:1.34979\n",
      "[7]\tvalidation_0-rmse:1.58618\tvalidation_1-rmse:1.34487\n",
      "[8]\tvalidation_0-rmse:1.58040\tvalidation_1-rmse:1.34177\n",
      "[9]\tvalidation_0-rmse:1.57679\tvalidation_1-rmse:1.34097\n",
      "[10]\tvalidation_0-rmse:1.57355\tvalidation_1-rmse:1.33947\n",
      "[11]\tvalidation_0-rmse:1.56224\tvalidation_1-rmse:1.33734\n",
      "[12]\tvalidation_0-rmse:1.55634\tvalidation_1-rmse:1.33655\n",
      "[13]\tvalidation_0-rmse:1.55301\tvalidation_1-rmse:1.33685\n",
      "[14]\tvalidation_0-rmse:1.54426\tvalidation_1-rmse:1.33273\n",
      "[15]\tvalidation_0-rmse:1.53682\tvalidation_1-rmse:1.33291\n",
      "[16]\tvalidation_0-rmse:1.53286\tvalidation_1-rmse:1.32870\n",
      "[17]\tvalidation_0-rmse:1.52207\tvalidation_1-rmse:1.31869\n",
      "[18]\tvalidation_0-rmse:1.51477\tvalidation_1-rmse:1.31042\n",
      "[19]\tvalidation_0-rmse:1.51102\tvalidation_1-rmse:1.31132\n",
      "[20]\tvalidation_0-rmse:1.50599\tvalidation_1-rmse:1.30572\n",
      "[21]\tvalidation_0-rmse:1.50364\tvalidation_1-rmse:1.30742\n",
      "[22]\tvalidation_0-rmse:1.49670\tvalidation_1-rmse:1.30004\n",
      "[23]\tvalidation_0-rmse:1.49177\tvalidation_1-rmse:1.29569\n",
      "[24]\tvalidation_0-rmse:1.48835\tvalidation_1-rmse:1.29648\n",
      "[25]\tvalidation_0-rmse:1.48182\tvalidation_1-rmse:1.28926\n",
      "[26]\tvalidation_0-rmse:1.47871\tvalidation_1-rmse:1.29077\n",
      "[27]\tvalidation_0-rmse:1.47504\tvalidation_1-rmse:1.28586\n",
      "[28]\tvalidation_0-rmse:1.47353\tvalidation_1-rmse:1.28510\n",
      "[29]\tvalidation_0-rmse:1.47067\tvalidation_1-rmse:1.28632\n",
      "[30]\tvalidation_0-rmse:1.46955\tvalidation_1-rmse:1.28547\n",
      "[31]\tvalidation_0-rmse:1.46723\tvalidation_1-rmse:1.28662\n",
      "[32]\tvalidation_0-rmse:1.46477\tvalidation_1-rmse:1.28627\n",
      "[33]\tvalidation_0-rmse:1.46283\tvalidation_1-rmse:1.28761\n",
      "[34]\tvalidation_0-rmse:1.46163\tvalidation_1-rmse:1.28857\n",
      "[35]\tvalidation_0-rmse:1.45909\tvalidation_1-rmse:1.28708\n",
      "[36]\tvalidation_0-rmse:1.45318\tvalidation_1-rmse:1.28133\n",
      "[37]\tvalidation_0-rmse:1.45145\tvalidation_1-rmse:1.28260\n",
      "[38]\tvalidation_0-rmse:1.44957\tvalidation_1-rmse:1.28349\n",
      "[39]\tvalidation_0-rmse:1.44765\tvalidation_1-rmse:1.28190\n",
      "[40]\tvalidation_0-rmse:1.44361\tvalidation_1-rmse:1.27659\n",
      "[41]\tvalidation_0-rmse:1.44252\tvalidation_1-rmse:1.27683\n",
      "[42]\tvalidation_0-rmse:1.44132\tvalidation_1-rmse:1.27681\n",
      "[43]\tvalidation_0-rmse:1.43943\tvalidation_1-rmse:1.27618\n",
      "[44]\tvalidation_0-rmse:1.43802\tvalidation_1-rmse:1.27861\n",
      "[45]\tvalidation_0-rmse:1.43652\tvalidation_1-rmse:1.27805\n",
      "[46]\tvalidation_0-rmse:1.43250\tvalidation_1-rmse:1.27541\n",
      "[47]\tvalidation_0-rmse:1.43048\tvalidation_1-rmse:1.27511\n",
      "[48]\tvalidation_0-rmse:1.42817\tvalidation_1-rmse:1.27514\n",
      "[49]\tvalidation_0-rmse:1.42655\tvalidation_1-rmse:1.27629\n",
      "[50]\tvalidation_0-rmse:1.42527\tvalidation_1-rmse:1.27669\n",
      "[51]\tvalidation_0-rmse:1.42033\tvalidation_1-rmse:1.27210\n",
      "[52]\tvalidation_0-rmse:1.42016\tvalidation_1-rmse:1.27050\n",
      "[53]\tvalidation_0-rmse:1.41849\tvalidation_1-rmse:1.27060\n",
      "[54]\tvalidation_0-rmse:1.41772\tvalidation_1-rmse:1.27149\n",
      "[55]\tvalidation_0-rmse:1.41675\tvalidation_1-rmse:1.27303\n",
      "[56]\tvalidation_0-rmse:1.41481\tvalidation_1-rmse:1.27224\n",
      "[57]\tvalidation_0-rmse:1.41358\tvalidation_1-rmse:1.27096\n",
      "[58]\tvalidation_0-rmse:1.41077\tvalidation_1-rmse:1.26812\n",
      "[59]\tvalidation_0-rmse:1.40946\tvalidation_1-rmse:1.26873\n",
      "[60]\tvalidation_0-rmse:1.40815\tvalidation_1-rmse:1.26815\n",
      "[61]\tvalidation_0-rmse:1.40494\tvalidation_1-rmse:1.26455\n",
      "[62]\tvalidation_0-rmse:1.40332\tvalidation_1-rmse:1.26474\n",
      "[63]\tvalidation_0-rmse:1.40243\tvalidation_1-rmse:1.26497\n",
      "[64]\tvalidation_0-rmse:1.40133\tvalidation_1-rmse:1.26583\n",
      "[65]\tvalidation_0-rmse:1.40005\tvalidation_1-rmse:1.26567\n",
      "[66]\tvalidation_0-rmse:1.39925\tvalidation_1-rmse:1.26597\n",
      "[67]\tvalidation_0-rmse:1.39770\tvalidation_1-rmse:1.26600\n",
      "[68]\tvalidation_0-rmse:1.39515\tvalidation_1-rmse:1.26369\n",
      "[69]\tvalidation_0-rmse:1.39417\tvalidation_1-rmse:1.26304\n",
      "[70]\tvalidation_0-rmse:1.39210\tvalidation_1-rmse:1.26004\n",
      "[71]\tvalidation_0-rmse:1.38980\tvalidation_1-rmse:1.26128\n",
      "[72]\tvalidation_0-rmse:1.38809\tvalidation_1-rmse:1.26267\n",
      "[73]\tvalidation_0-rmse:1.38691\tvalidation_1-rmse:1.26232\n",
      "[74]\tvalidation_0-rmse:1.38604\tvalidation_1-rmse:1.26380\n",
      "[75]\tvalidation_0-rmse:1.38372\tvalidation_1-rmse:1.26060\n",
      "[76]\tvalidation_0-rmse:1.38179\tvalidation_1-rmse:1.25992\n",
      "[77]\tvalidation_0-rmse:1.38028\tvalidation_1-rmse:1.26119\n",
      "[78]\tvalidation_0-rmse:1.37845\tvalidation_1-rmse:1.25947\n",
      "[79]\tvalidation_0-rmse:1.37693\tvalidation_1-rmse:1.26118\n",
      "[80]\tvalidation_0-rmse:1.37489\tvalidation_1-rmse:1.25802\n",
      "[81]\tvalidation_0-rmse:1.37350\tvalidation_1-rmse:1.25946\n",
      "[82]\tvalidation_0-rmse:1.37256\tvalidation_1-rmse:1.25916\n",
      "[83]\tvalidation_0-rmse:1.37167\tvalidation_1-rmse:1.25799\n",
      "[84]\tvalidation_0-rmse:1.37007\tvalidation_1-rmse:1.26046\n",
      "[85]\tvalidation_0-rmse:1.36795\tvalidation_1-rmse:1.25775\n",
      "[86]\tvalidation_0-rmse:1.36608\tvalidation_1-rmse:1.25438\n",
      "[87]\tvalidation_0-rmse:1.36452\tvalidation_1-rmse:1.25616\n",
      "[88]\tvalidation_0-rmse:1.36347\tvalidation_1-rmse:1.25602\n",
      "[89]\tvalidation_0-rmse:1.36259\tvalidation_1-rmse:1.25743\n",
      "[90]\tvalidation_0-rmse:1.36075\tvalidation_1-rmse:1.25421\n",
      "[91]\tvalidation_0-rmse:1.35977\tvalidation_1-rmse:1.25333\n",
      "[92]\tvalidation_0-rmse:1.35892\tvalidation_1-rmse:1.25464\n",
      "[93]\tvalidation_0-rmse:1.35788\tvalidation_1-rmse:1.25587\n",
      "[94]\tvalidation_0-rmse:1.35711\tvalidation_1-rmse:1.25535\n",
      "[95]\tvalidation_0-rmse:1.35590\tvalidation_1-rmse:1.25640\n",
      "[96]\tvalidation_0-rmse:1.35521\tvalidation_1-rmse:1.25791\n",
      "[97]\tvalidation_0-rmse:1.35510\tvalidation_1-rmse:1.25922\n",
      "[98]\tvalidation_0-rmse:1.35403\tvalidation_1-rmse:1.25880\n",
      "[99]\tvalidation_0-rmse:1.35290\tvalidation_1-rmse:1.25807\n",
      "[100]\tvalidation_0-rmse:1.35004\tvalidation_1-rmse:1.25453\n",
      "[101]\tvalidation_0-rmse:1.34913\tvalidation_1-rmse:1.25393\n"
     ]
    },
    {
     "data": {
      "text/plain": [
       "XGBRegressor(base_score=0.5, booster='gbtree', colsample_bylevel=1,\n",
       "             colsample_bynode=1, colsample_bytree=0.8, enable_categorical=False,\n",
       "             eta=0.3, gamma=0, gpu_id=-1, importance_type=None,\n",
       "             interaction_constraints='', learning_rate=0.300000012,\n",
       "             max_delta_step=0, max_depth=8, min_child_weight=300, missing=nan,\n",
       "             monotone_constraints='()', n_estimators=1000, n_jobs=8,\n",
       "             num_parallel_tree=1, predictor='auto', random_state=42,\n",
       "             reg_alpha=0, reg_lambda=1, scale_pos_weight=1, seed=42,\n",
       "             subsample=0.8, tree_method='exact', validate_parameters=1,\n",
       "             verbosity=None)"
      ]
     },
     "execution_count": 15,
     "metadata": {},
     "output_type": "execute_result"
    }
   ],
   "source": [
    "from xgboost import XGBRegressor\n",
    "model = XGBRegressor(\n",
    "    max_depth=8,\n",
    "    n_estimators=1000,\n",
    "    min_child_weight=300, \n",
    "    colsample_bytree=0.8, \n",
    "    subsample=0.8, \n",
    "    eta=0.3,    \n",
    "    seed=42)\n",
    "model.fit(\n",
    "    X_train, \n",
    "    y_train, \n",
    "    eval_metric=\"rmse\", \n",
    "    eval_set=[(X_train, y_train), (X_test, y_test)], \n",
    "    verbose=True, \n",
    "    early_stopping_rounds = 10)"
   ]
  },
  {
   "cell_type": "code",
   "execution_count": 16,
   "metadata": {},
   "outputs": [
    {
     "data": {
      "text/plain": [
       "0.6943621022132143"
      ]
     },
     "execution_count": 16,
     "metadata": {},
     "output_type": "execute_result"
    }
   ],
   "source": [
    "from sklearn.ensemble import GradientBoostingRegressor\n",
    "from sklearn.metrics import r2_score\n",
    "\n",
    "reg = GradientBoostingRegressor(random_state=0)\n",
    "reg.fit(X_train, y_train)\n",
    "\n",
    "preds = reg.predict(X_test)\n",
    "\n",
    "r2_score(y_test, preds)"
   ]
  },
  {
   "cell_type": "code",
   "execution_count": 17,
   "metadata": {},
   "outputs": [
    {
     "data": {
      "text/html": [
       "<div>\n",
       "<style scoped>\n",
       "    .dataframe tbody tr th:only-of-type {\n",
       "        vertical-align: middle;\n",
       "    }\n",
       "\n",
       "    .dataframe tbody tr th {\n",
       "        vertical-align: top;\n",
       "    }\n",
       "\n",
       "    .dataframe thead th {\n",
       "        text-align: right;\n",
       "    }\n",
       "</style>\n",
       "<table border=\"1\" class=\"dataframe\">\n",
       "  <thead>\n",
       "    <tr style=\"text-align: right;\">\n",
       "      <th></th>\n",
       "      <th>GTEP</th>\n",
       "      <th>TIT</th>\n",
       "      <th>TEY</th>\n",
       "      <th>CDP</th>\n",
       "    </tr>\n",
       "  </thead>\n",
       "  <tbody>\n",
       "    <tr>\n",
       "      <th>13312</th>\n",
       "      <td>25.581</td>\n",
       "      <td>1091.0</td>\n",
       "      <td>135.11</td>\n",
       "      <td>12.123</td>\n",
       "    </tr>\n",
       "    <tr>\n",
       "      <th>12627</th>\n",
       "      <td>25.882</td>\n",
       "      <td>1091.7</td>\n",
       "      <td>134.20</td>\n",
       "      <td>12.160</td>\n",
       "    </tr>\n",
       "    <tr>\n",
       "      <th>6393</th>\n",
       "      <td>23.057</td>\n",
       "      <td>1080.4</td>\n",
       "      <td>128.14</td>\n",
       "      <td>11.693</td>\n",
       "    </tr>\n",
       "    <tr>\n",
       "      <th>4990</th>\n",
       "      <td>20.005</td>\n",
       "      <td>1060.0</td>\n",
       "      <td>112.05</td>\n",
       "      <td>10.732</td>\n",
       "    </tr>\n",
       "    <tr>\n",
       "      <th>12462</th>\n",
       "      <td>25.295</td>\n",
       "      <td>1090.1</td>\n",
       "      <td>133.59</td>\n",
       "      <td>12.010</td>\n",
       "    </tr>\n",
       "    <tr>\n",
       "      <th>...</th>\n",
       "      <td>...</td>\n",
       "      <td>...</td>\n",
       "      <td>...</td>\n",
       "      <td>...</td>\n",
       "    </tr>\n",
       "    <tr>\n",
       "      <th>11140</th>\n",
       "      <td>26.073</td>\n",
       "      <td>1092.3</td>\n",
       "      <td>133.81</td>\n",
       "      <td>12.324</td>\n",
       "    </tr>\n",
       "    <tr>\n",
       "      <th>10579</th>\n",
       "      <td>26.905</td>\n",
       "      <td>1097.5</td>\n",
       "      <td>136.95</td>\n",
       "      <td>12.316</td>\n",
       "    </tr>\n",
       "    <tr>\n",
       "      <th>10098</th>\n",
       "      <td>30.977</td>\n",
       "      <td>1100.4</td>\n",
       "      <td>154.90</td>\n",
       "      <td>13.688</td>\n",
       "    </tr>\n",
       "    <tr>\n",
       "      <th>7862</th>\n",
       "      <td>23.548</td>\n",
       "      <td>1082.8</td>\n",
       "      <td>134.97</td>\n",
       "      <td>11.749</td>\n",
       "    </tr>\n",
       "    <tr>\n",
       "      <th>3649</th>\n",
       "      <td>31.187</td>\n",
       "      <td>1100.0</td>\n",
       "      <td>152.11</td>\n",
       "      <td>13.505</td>\n",
       "    </tr>\n",
       "  </tbody>\n",
       "</table>\n",
       "<p>5264 rows × 4 columns</p>\n",
       "</div>"
      ],
      "text/plain": [
       "         GTEP     TIT     TEY     CDP\n",
       "13312  25.581  1091.0  135.11  12.123\n",
       "12627  25.882  1091.7  134.20  12.160\n",
       "6393   23.057  1080.4  128.14  11.693\n",
       "4990   20.005  1060.0  112.05  10.732\n",
       "12462  25.295  1090.1  133.59  12.010\n",
       "...       ...     ...     ...     ...\n",
       "11140  26.073  1092.3  133.81  12.324\n",
       "10579  26.905  1097.5  136.95  12.316\n",
       "10098  30.977  1100.4  154.90  13.688\n",
       "7862   23.548  1082.8  134.97  11.749\n",
       "3649   31.187  1100.0  152.11  13.505\n",
       "\n",
       "[5264 rows x 4 columns]"
      ]
     },
     "execution_count": 17,
     "metadata": {},
     "output_type": "execute_result"
    }
   ],
   "source": [
    "X_test"
   ]
  },
  {
   "cell_type": "code",
   "execution_count": 18,
   "metadata": {},
   "outputs": [
    {
     "data": {
      "text/plain": [
       "0.5975986480139726"
      ]
     },
     "execution_count": 18,
     "metadata": {},
     "output_type": "execute_result"
    }
   ],
   "source": [
    "from sklearn.metrics import mean_absolute_error\n",
    "# Mean absolute error\n",
    "mae_test = mean_absolute_error(y_true=y_test, y_pred=preds)\n",
    "mae_test"
   ]
  },
  {
   "cell_type": "code",
   "execution_count": 19,
   "metadata": {},
   "outputs": [],
   "source": [
    "#Defining MAPE function\n",
    "def mape_fun(Y_actual,Y_Predicted):\n",
    "    mape = np.mean(np.abs((Y_actual - Y_Predicted)/Y_actual))*100\n",
    "    return mape"
   ]
  },
  {
   "cell_type": "code",
   "execution_count": 20,
   "metadata": {},
   "outputs": [
    {
     "data": {
      "text/plain": [
       "121.03513147768635"
      ]
     },
     "execution_count": 20,
     "metadata": {},
     "output_type": "execute_result"
    }
   ],
   "source": [
    "mape_fun(y_test,preds)"
   ]
  },
  {
   "cell_type": "code",
   "execution_count": 21,
   "metadata": {},
   "outputs": [
    {
     "name": "stdout",
     "output_type": "stream",
     "text": [
      "[0]\tvalidation_0-mape:0.69129\tvalidation_1-mape:0.69156\n",
      "[1]\tvalidation_0-mape:0.48006\tvalidation_1-mape:0.48055\n",
      "[2]\tvalidation_0-mape:0.33256\tvalidation_1-mape:0.33329\n",
      "[3]\tvalidation_0-mape:0.22988\tvalidation_1-mape:0.23055\n",
      "[4]\tvalidation_0-mape:0.16279\tvalidation_1-mape:0.16315\n",
      "[5]\tvalidation_0-mape:0.12365\tvalidation_1-mape:0.12358\n",
      "[6]\tvalidation_0-mape:0.10365\tvalidation_1-mape:0.10331\n",
      "[7]\tvalidation_0-mape:0.09425\tvalidation_1-mape:0.09372\n",
      "[8]\tvalidation_0-mape:0.08983\tvalidation_1-mape:0.08922\n",
      "[9]\tvalidation_0-mape:0.08775\tvalidation_1-mape:0.08732\n",
      "[10]\tvalidation_0-mape:0.08677\tvalidation_1-mape:0.08656\n",
      "[11]\tvalidation_0-mape:0.08640\tvalidation_1-mape:0.08629\n",
      "[12]\tvalidation_0-mape:0.08628\tvalidation_1-mape:0.08627\n",
      "[13]\tvalidation_0-mape:0.08631\tvalidation_1-mape:0.08633\n",
      "[14]\tvalidation_0-mape:0.08634\tvalidation_1-mape:0.08642\n",
      "[15]\tvalidation_0-mape:0.08635\tvalidation_1-mape:0.08650\n",
      "[16]\tvalidation_0-mape:0.08636\tvalidation_1-mape:0.08652\n",
      "[17]\tvalidation_0-mape:0.08641\tvalidation_1-mape:0.08661\n",
      "[18]\tvalidation_0-mape:0.08643\tvalidation_1-mape:0.08660\n",
      "[19]\tvalidation_0-mape:0.08645\tvalidation_1-mape:0.08659\n",
      "[20]\tvalidation_0-mape:0.08643\tvalidation_1-mape:0.08665\n",
      "[21]\tvalidation_0-mape:0.08642\tvalidation_1-mape:0.08668\n",
      "[22]\tvalidation_0-mape:0.08643\tvalidation_1-mape:0.08670\n"
     ]
    },
    {
     "data": {
      "text/plain": [
       "XGBRegressor(base_score=0.5, booster='gbtree', colsample_bylevel=1,\n",
       "             colsample_bynode=1, colsample_bytree=0.8, enable_categorical=False,\n",
       "             eta=0.3, gamma=0, gpu_id=-1, importance_type=None,\n",
       "             interaction_constraints='', learning_rate=0.300000012,\n",
       "             max_delta_step=0, max_depth=8, min_child_weight=300, missing=nan,\n",
       "             monotone_constraints='()', n_estimators=1000, n_jobs=8,\n",
       "             num_parallel_tree=1, predictor='auto', random_state=42,\n",
       "             reg_alpha=0, reg_lambda=1, scale_pos_weight=1, seed=42,\n",
       "             subsample=0.8, tree_method='exact', validate_parameters=1,\n",
       "             verbosity=None)"
      ]
     },
     "execution_count": 21,
     "metadata": {},
     "output_type": "execute_result"
    }
   ],
   "source": [
    "X = df[['AT']]\n",
    "\n",
    "y = df['NOX']\n",
    "\n",
    "\n",
    "\n",
    "X_train, X_test, y_train, y_test = train_test_split(\n",
    "    X, y, train_size=0.65,random_state=42\n",
    ")\n",
    "\n",
    "\n",
    "\n",
    "from xgboost import XGBRegressor\n",
    "model = XGBRegressor(\n",
    "    max_depth=8,\n",
    "    n_estimators=1000,\n",
    "    min_child_weight=300, \n",
    "    colsample_bytree=0.8, \n",
    "    subsample=0.8, \n",
    "    eta=0.3,    \n",
    "    seed=42)\n",
    "model.fit(\n",
    "    X_train, \n",
    "    y_train, \n",
    "    eval_metric=\"mape\", \n",
    "    eval_set=[(X_train, y_train), (X_test, y_test)], \n",
    "    verbose=True, \n",
    "    early_stopping_rounds = 10)"
   ]
  },
  {
   "cell_type": "code",
   "execution_count": 22,
   "metadata": {},
   "outputs": [
    {
     "data": {
      "text/plain": [
       "0.39952017949204055"
      ]
     },
     "execution_count": 22,
     "metadata": {},
     "output_type": "execute_result"
    }
   ],
   "source": [
    "reg = GradientBoostingRegressor(random_state=0)\n",
    "reg.fit(X_train, y_train)\n",
    "\n",
    "preds = reg.predict(X_test)\n",
    "\n",
    "r2_score(y_test, preds)"
   ]
  },
  {
   "cell_type": "code",
   "execution_count": 23,
   "metadata": {},
   "outputs": [
    {
     "data": {
      "text/plain": [
       "5.929144331305397"
      ]
     },
     "execution_count": 23,
     "metadata": {},
     "output_type": "execute_result"
    }
   ],
   "source": [
    "mae_test = mean_absolute_error(y_true=y_test, y_pred=preds)\n",
    "mae_test"
   ]
  },
  {
   "cell_type": "code",
   "execution_count": 24,
   "metadata": {},
   "outputs": [
    {
     "data": {
      "text/plain": [
       "8.664392555697313"
      ]
     },
     "execution_count": 24,
     "metadata": {},
     "output_type": "execute_result"
    }
   ],
   "source": [
    "mape_fun(y_test,preds)"
   ]
  },
  {
   "cell_type": "markdown",
   "metadata": {},
   "source": [
    "# TODO_a"
   ]
  },
  {
   "cell_type": "code",
   "execution_count": 25,
   "metadata": {},
   "outputs": [
    {
     "data": {
      "text/plain": [
       "5.32984256081025"
      ]
     },
     "execution_count": 25,
     "metadata": {},
     "output_type": "execute_result"
    }
   ],
   "source": [
    "df_train = X_train.join(y_train)\n",
    "df_train['preds'] = reg.predict(X_train)\n",
    "df_train['y_train'] = y_train\n",
    "df_train['diff'] = np.abs(df_train['preds'] - df_train['y_train'])\n",
    "delta_m = (df_train['diff'].sum())/len(df_train)\n",
    "df_train['deltas_diff'] = (df_train['diff'] - delta_m)**2\n",
    "u_train = np.sqrt(df_train['deltas_diff'].sum()/(len(df_train)-1))\n",
    "u_train"
   ]
  },
  {
   "cell_type": "code",
   "execution_count": 26,
   "metadata": {},
   "outputs": [
    {
     "data": {
      "text/plain": [
       "5.57476333355846"
      ]
     },
     "execution_count": 26,
     "metadata": {},
     "output_type": "execute_result"
    }
   ],
   "source": [
    "df_test = X_test.join(y_test)\n",
    "df_test['preds'] = reg.predict(X_test)\n",
    "df_test['y_test'] = y_test\n",
    "df_test['diff'] = np.abs(df_test['preds'] - df_test['y_test'])\n",
    "delta_m = (df_test['diff'].sum())/len(df_test)\n",
    "df_test['deltas_diff'] = (df_test['diff'] - delta_m)**2\n",
    "u_test = np.sqrt(df_test['deltas_diff'].sum()/(len(df_test)-1))\n",
    "u_test"
   ]
  },
  {
   "cell_type": "code",
   "execution_count": 27,
   "metadata": {},
   "outputs": [
    {
     "data": {
      "text/plain": [
       "5.574233790614159"
      ]
     },
     "execution_count": 27,
     "metadata": {},
     "output_type": "execute_result"
    }
   ],
   "source": [
    "u_test = np.sqrt(df_test['deltas_diff'].sum()/(len(df_test-1)))\n",
    "u_test"
   ]
  },
  {
   "cell_type": "code",
   "execution_count": 28,
   "metadata": {},
   "outputs": [
    {
     "data": {
      "text/plain": [
       "7.712282676059601"
      ]
     },
     "execution_count": 28,
     "metadata": {},
     "output_type": "execute_result"
    }
   ],
   "source": [
    "u_pems = np.sqrt(u_train**2 + u_test**2)\n",
    "u_pems"
   ]
  },
  {
   "cell_type": "code",
   "execution_count": 29,
   "metadata": {},
   "outputs": [
    {
     "data": {
      "text/plain": [
       "78.113"
      ]
     },
     "execution_count": 29,
     "metadata": {},
     "output_type": "execute_result"
    }
   ],
   "source": [
    "c_pems = df_train['NOX'].max() - df_train['NOX'].min()\n",
    "c_pems"
   ]
  },
  {
   "cell_type": "code",
   "execution_count": 30,
   "metadata": {},
   "outputs": [
    {
     "data": {
      "text/plain": [
       "0.1935154717534446"
      ]
     },
     "execution_count": 30,
     "metadata": {},
     "output_type": "execute_result"
    }
   ],
   "source": [
    "U_pems = 1.96*u_pems/c_pems\n",
    "U_pems"
   ]
  },
  {
   "cell_type": "markdown",
   "metadata": {},
   "source": [
    "# TODO_b"
   ]
  },
  {
   "cell_type": "code",
   "execution_count": 31,
   "metadata": {},
   "outputs": [],
   "source": [
    "import numpy as np \n",
    "from scipy.stats import t"
   ]
  },
  {
   "cell_type": "code",
   "execution_count": 32,
   "metadata": {},
   "outputs": [],
   "source": [
    "x = df[['NOX']]\n",
    "m = x.mean() \n",
    "s = x.std() \n",
    "dof = len(x)-1 \n",
    "confidence = 0.95"
   ]
  },
  {
   "cell_type": "code",
   "execution_count": 33,
   "metadata": {},
   "outputs": [
    {
     "data": {
      "text/plain": [
       "15038"
      ]
     },
     "execution_count": 33,
     "metadata": {},
     "output_type": "execute_result"
    }
   ],
   "source": [
    "dof"
   ]
  },
  {
   "cell_type": "code",
   "execution_count": 34,
   "metadata": {},
   "outputs": [],
   "source": [
    "t_crit = np.abs(t.ppf((1-confidence)/2,dof))"
   ]
  },
  {
   "cell_type": "code",
   "execution_count": 35,
   "metadata": {},
   "outputs": [
    {
     "data": {
      "text/plain": [
       "1.960121748799443"
      ]
     },
     "execution_count": 35,
     "metadata": {},
     "output_type": "execute_result"
    }
   ],
   "source": [
    "t_crit"
   ]
  },
  {
   "cell_type": "code",
   "execution_count": 36,
   "metadata": {},
   "outputs": [
    {
     "data": {
      "text/plain": [
       "(NOX    68.023577\n",
       " dtype: float64,\n",
       " NOX    68.358291\n",
       " dtype: float64)"
      ]
     },
     "execution_count": 36,
     "metadata": {},
     "output_type": "execute_result"
    }
   ],
   "source": [
    "(m-s*t_crit/np.sqrt(len(x)), m+s*t_crit/np.sqrt(len(x))) "
   ]
  },
  {
   "cell_type": "code",
   "execution_count": 37,
   "metadata": {},
   "outputs": [
    {
     "data": {
      "text/plain": [
       "NOX    0.167357\n",
       "dtype: float64"
      ]
     },
     "execution_count": 37,
     "metadata": {},
     "output_type": "execute_result"
    }
   ],
   "source": [
    "s*t_crit/np.sqrt(len(x))"
   ]
  }
 ],
 "metadata": {
  "interpreter": {
   "hash": "854e1f39e37c1f3c7b759d65040b61baf6b5ecea292a6acf12895e3741ee9aa7"
  },
  "kernelspec": {
   "display_name": "Python 3 (ipykernel)",
   "language": "python",
   "name": "python3"
  },
  "language_info": {
   "codemirror_mode": {
    "name": "ipython",
    "version": 3
   },
   "file_extension": ".py",
   "mimetype": "text/x-python",
   "name": "python",
   "nbconvert_exporter": "python",
   "pygments_lexer": "ipython3",
   "version": "3.9.7"
  }
 },
 "nbformat": 4,
 "nbformat_minor": 4
}
