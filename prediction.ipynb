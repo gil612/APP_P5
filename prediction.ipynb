{
 "cells": [
  {
   "cell_type": "code",
   "execution_count": 1,
   "metadata": {},
   "outputs": [],
   "source": [
    "import numpy as np\n",
    "import pandas as pd\n",
    "import seaborn as sns\n",
    "import matplotlib.pyplot as plt\n",
    "import plotly.express as px"
   ]
  },
  {
   "cell_type": "code",
   "execution_count": 2,
   "metadata": {},
   "outputs": [],
   "source": [
    "# train.csv is a dataset between years 2011-2012\n",
    "df = pd.read_csv('train.csv')"
   ]
  },
  {
   "cell_type": "code",
   "execution_count": 3,
   "metadata": {},
   "outputs": [],
   "source": [
    "df = df.drop(columns=['Datetime'])"
   ]
  },
  {
   "cell_type": "code",
   "execution_count": 4,
   "metadata": {},
   "outputs": [
    {
     "data": {
      "text/html": [
       "<div>\n",
       "<style scoped>\n",
       "    .dataframe tbody tr th:only-of-type {\n",
       "        vertical-align: middle;\n",
       "    }\n",
       "\n",
       "    .dataframe tbody tr th {\n",
       "        vertical-align: top;\n",
       "    }\n",
       "\n",
       "    .dataframe thead th {\n",
       "        text-align: right;\n",
       "    }\n",
       "</style>\n",
       "<table border=\"1\" class=\"dataframe\">\n",
       "  <thead>\n",
       "    <tr style=\"text-align: right;\">\n",
       "      <th></th>\n",
       "      <th>AT</th>\n",
       "      <th>AP</th>\n",
       "      <th>AH</th>\n",
       "      <th>AFDP</th>\n",
       "      <th>GTEP</th>\n",
       "      <th>TIT</th>\n",
       "      <th>TAT</th>\n",
       "      <th>TEY</th>\n",
       "      <th>CDP</th>\n",
       "      <th>CO</th>\n",
       "      <th>NOX</th>\n",
       "    </tr>\n",
       "  </thead>\n",
       "  <tbody>\n",
       "    <tr>\n",
       "      <th>0</th>\n",
       "      <td>4.5878</td>\n",
       "      <td>1018.7</td>\n",
       "      <td>83.675</td>\n",
       "      <td>3.5758</td>\n",
       "      <td>23.979</td>\n",
       "      <td>1086.2</td>\n",
       "      <td>549.83</td>\n",
       "      <td>134.67</td>\n",
       "      <td>11.898</td>\n",
       "      <td>0.32663</td>\n",
       "      <td>81.952</td>\n",
       "    </tr>\n",
       "    <tr>\n",
       "      <th>1</th>\n",
       "      <td>4.2932</td>\n",
       "      <td>1018.3</td>\n",
       "      <td>84.235</td>\n",
       "      <td>3.5709</td>\n",
       "      <td>23.951</td>\n",
       "      <td>1086.1</td>\n",
       "      <td>550.05</td>\n",
       "      <td>134.67</td>\n",
       "      <td>11.892</td>\n",
       "      <td>0.44784</td>\n",
       "      <td>82.377</td>\n",
       "    </tr>\n",
       "    <tr>\n",
       "      <th>2</th>\n",
       "      <td>3.9045</td>\n",
       "      <td>1018.4</td>\n",
       "      <td>84.858</td>\n",
       "      <td>3.5828</td>\n",
       "      <td>23.990</td>\n",
       "      <td>1086.5</td>\n",
       "      <td>550.19</td>\n",
       "      <td>135.10</td>\n",
       "      <td>12.042</td>\n",
       "      <td>0.45144</td>\n",
       "      <td>83.776</td>\n",
       "    </tr>\n",
       "    <tr>\n",
       "      <th>3</th>\n",
       "      <td>3.7436</td>\n",
       "      <td>1018.3</td>\n",
       "      <td>85.434</td>\n",
       "      <td>3.5808</td>\n",
       "      <td>23.911</td>\n",
       "      <td>1086.5</td>\n",
       "      <td>550.17</td>\n",
       "      <td>135.03</td>\n",
       "      <td>11.990</td>\n",
       "      <td>0.23107</td>\n",
       "      <td>82.505</td>\n",
       "    </tr>\n",
       "    <tr>\n",
       "      <th>4</th>\n",
       "      <td>3.7516</td>\n",
       "      <td>1017.8</td>\n",
       "      <td>85.182</td>\n",
       "      <td>3.5781</td>\n",
       "      <td>23.917</td>\n",
       "      <td>1085.9</td>\n",
       "      <td>550.00</td>\n",
       "      <td>134.67</td>\n",
       "      <td>11.910</td>\n",
       "      <td>0.26747</td>\n",
       "      <td>82.028</td>\n",
       "    </tr>\n",
       "    <tr>\n",
       "      <th>...</th>\n",
       "      <td>...</td>\n",
       "      <td>...</td>\n",
       "      <td>...</td>\n",
       "      <td>...</td>\n",
       "      <td>...</td>\n",
       "      <td>...</td>\n",
       "      <td>...</td>\n",
       "      <td>...</td>\n",
       "      <td>...</td>\n",
       "      <td>...</td>\n",
       "      <td>...</td>\n",
       "    </tr>\n",
       "    <tr>\n",
       "      <th>15034</th>\n",
       "      <td>10.0370</td>\n",
       "      <td>1022.1</td>\n",
       "      <td>88.531</td>\n",
       "      <td>2.9192</td>\n",
       "      <td>23.641</td>\n",
       "      <td>1083.6</td>\n",
       "      <td>549.91</td>\n",
       "      <td>132.61</td>\n",
       "      <td>11.745</td>\n",
       "      <td>1.65600</td>\n",
       "      <td>76.068</td>\n",
       "    </tr>\n",
       "    <tr>\n",
       "      <th>15035</th>\n",
       "      <td>9.8921</td>\n",
       "      <td>1022.2</td>\n",
       "      <td>87.622</td>\n",
       "      <td>2.9415</td>\n",
       "      <td>23.859</td>\n",
       "      <td>1084.9</td>\n",
       "      <td>550.08</td>\n",
       "      <td>133.57</td>\n",
       "      <td>11.869</td>\n",
       "      <td>1.55490</td>\n",
       "      <td>74.930</td>\n",
       "    </tr>\n",
       "    <tr>\n",
       "      <th>15036</th>\n",
       "      <td>9.8723</td>\n",
       "      <td>1022.0</td>\n",
       "      <td>86.618</td>\n",
       "      <td>2.9309</td>\n",
       "      <td>23.817</td>\n",
       "      <td>1084.8</td>\n",
       "      <td>549.99</td>\n",
       "      <td>133.50</td>\n",
       "      <td>11.914</td>\n",
       "      <td>1.40930</td>\n",
       "      <td>75.041</td>\n",
       "    </tr>\n",
       "    <tr>\n",
       "      <th>15037</th>\n",
       "      <td>10.0260</td>\n",
       "      <td>1022.0</td>\n",
       "      <td>87.301</td>\n",
       "      <td>2.9363</td>\n",
       "      <td>23.831</td>\n",
       "      <td>1084.5</td>\n",
       "      <td>550.01</td>\n",
       "      <td>133.20</td>\n",
       "      <td>11.811</td>\n",
       "      <td>1.39630</td>\n",
       "      <td>74.460</td>\n",
       "    </tr>\n",
       "    <tr>\n",
       "      <th>15038</th>\n",
       "      <td>10.0590</td>\n",
       "      <td>1021.8</td>\n",
       "      <td>88.012</td>\n",
       "      <td>2.4579</td>\n",
       "      <td>19.526</td>\n",
       "      <td>1047.5</td>\n",
       "      <td>542.91</td>\n",
       "      <td>111.24</td>\n",
       "      <td>10.585</td>\n",
       "      <td>8.01070</td>\n",
       "      <td>86.066</td>\n",
       "    </tr>\n",
       "  </tbody>\n",
       "</table>\n",
       "<p>15039 rows × 11 columns</p>\n",
       "</div>"
      ],
      "text/plain": [
       "            AT      AP      AH    AFDP    GTEP     TIT     TAT     TEY  \\\n",
       "0       4.5878  1018.7  83.675  3.5758  23.979  1086.2  549.83  134.67   \n",
       "1       4.2932  1018.3  84.235  3.5709  23.951  1086.1  550.05  134.67   \n",
       "2       3.9045  1018.4  84.858  3.5828  23.990  1086.5  550.19  135.10   \n",
       "3       3.7436  1018.3  85.434  3.5808  23.911  1086.5  550.17  135.03   \n",
       "4       3.7516  1017.8  85.182  3.5781  23.917  1085.9  550.00  134.67   \n",
       "...        ...     ...     ...     ...     ...     ...     ...     ...   \n",
       "15034  10.0370  1022.1  88.531  2.9192  23.641  1083.6  549.91  132.61   \n",
       "15035   9.8921  1022.2  87.622  2.9415  23.859  1084.9  550.08  133.57   \n",
       "15036   9.8723  1022.0  86.618  2.9309  23.817  1084.8  549.99  133.50   \n",
       "15037  10.0260  1022.0  87.301  2.9363  23.831  1084.5  550.01  133.20   \n",
       "15038  10.0590  1021.8  88.012  2.4579  19.526  1047.5  542.91  111.24   \n",
       "\n",
       "          CDP       CO     NOX  \n",
       "0      11.898  0.32663  81.952  \n",
       "1      11.892  0.44784  82.377  \n",
       "2      12.042  0.45144  83.776  \n",
       "3      11.990  0.23107  82.505  \n",
       "4      11.910  0.26747  82.028  \n",
       "...       ...      ...     ...  \n",
       "15034  11.745  1.65600  76.068  \n",
       "15035  11.869  1.55490  74.930  \n",
       "15036  11.914  1.40930  75.041  \n",
       "15037  11.811  1.39630  74.460  \n",
       "15038  10.585  8.01070  86.066  \n",
       "\n",
       "[15039 rows x 11 columns]"
      ]
     },
     "execution_count": 4,
     "metadata": {},
     "output_type": "execute_result"
    }
   ],
   "source": [
    "df"
   ]
  },
  {
   "cell_type": "code",
   "execution_count": 5,
   "metadata": {},
   "outputs": [
    {
     "data": {
      "text/html": [
       "<div>\n",
       "<style scoped>\n",
       "    .dataframe tbody tr th:only-of-type {\n",
       "        vertical-align: middle;\n",
       "    }\n",
       "\n",
       "    .dataframe tbody tr th {\n",
       "        vertical-align: top;\n",
       "    }\n",
       "\n",
       "    .dataframe thead th {\n",
       "        text-align: right;\n",
       "    }\n",
       "</style>\n",
       "<table border=\"1\" class=\"dataframe\">\n",
       "  <thead>\n",
       "    <tr style=\"text-align: right;\">\n",
       "      <th></th>\n",
       "      <th>AT</th>\n",
       "      <th>AP</th>\n",
       "      <th>AH</th>\n",
       "      <th>AFDP</th>\n",
       "      <th>GTEP</th>\n",
       "      <th>TIT</th>\n",
       "      <th>TAT</th>\n",
       "      <th>TEY</th>\n",
       "      <th>CDP</th>\n",
       "      <th>CO</th>\n",
       "      <th>NOX</th>\n",
       "    </tr>\n",
       "  </thead>\n",
       "  <tbody>\n",
       "    <tr>\n",
       "      <th>count</th>\n",
       "      <td>15039.000000</td>\n",
       "      <td>15039.00000</td>\n",
       "      <td>15039.000000</td>\n",
       "      <td>15039.000000</td>\n",
       "      <td>15039.000000</td>\n",
       "      <td>15039.000000</td>\n",
       "      <td>15039.000000</td>\n",
       "      <td>15039.000000</td>\n",
       "      <td>15039.000000</td>\n",
       "      <td>15039.000000</td>\n",
       "      <td>15039.000000</td>\n",
       "    </tr>\n",
       "    <tr>\n",
       "      <th>mean</th>\n",
       "      <td>17.764381</td>\n",
       "      <td>1013.19924</td>\n",
       "      <td>79.124174</td>\n",
       "      <td>4.200294</td>\n",
       "      <td>25.419061</td>\n",
       "      <td>1083.798770</td>\n",
       "      <td>545.396183</td>\n",
       "      <td>134.188464</td>\n",
       "      <td>12.102353</td>\n",
       "      <td>1.972499</td>\n",
       "      <td>68.190934</td>\n",
       "    </tr>\n",
       "    <tr>\n",
       "      <th>std</th>\n",
       "      <td>7.574323</td>\n",
       "      <td>6.41076</td>\n",
       "      <td>13.793439</td>\n",
       "      <td>0.760197</td>\n",
       "      <td>4.173916</td>\n",
       "      <td>16.527806</td>\n",
       "      <td>7.866803</td>\n",
       "      <td>15.829717</td>\n",
       "      <td>1.103196</td>\n",
       "      <td>2.222206</td>\n",
       "      <td>10.470586</td>\n",
       "    </tr>\n",
       "    <tr>\n",
       "      <th>min</th>\n",
       "      <td>0.522300</td>\n",
       "      <td>985.85000</td>\n",
       "      <td>30.344000</td>\n",
       "      <td>2.087400</td>\n",
       "      <td>17.878000</td>\n",
       "      <td>1000.800000</td>\n",
       "      <td>512.450000</td>\n",
       "      <td>100.170000</td>\n",
       "      <td>9.904400</td>\n",
       "      <td>0.000388</td>\n",
       "      <td>27.765000</td>\n",
       "    </tr>\n",
       "    <tr>\n",
       "      <th>25%</th>\n",
       "      <td>11.408000</td>\n",
       "      <td>1008.90000</td>\n",
       "      <td>69.750000</td>\n",
       "      <td>3.723900</td>\n",
       "      <td>23.294000</td>\n",
       "      <td>1079.600000</td>\n",
       "      <td>542.170000</td>\n",
       "      <td>127.985000</td>\n",
       "      <td>11.622000</td>\n",
       "      <td>0.858055</td>\n",
       "      <td>61.303500</td>\n",
       "    </tr>\n",
       "    <tr>\n",
       "      <th>50%</th>\n",
       "      <td>18.186000</td>\n",
       "      <td>1012.80000</td>\n",
       "      <td>82.266000</td>\n",
       "      <td>4.186200</td>\n",
       "      <td>25.082000</td>\n",
       "      <td>1088.700000</td>\n",
       "      <td>549.890000</td>\n",
       "      <td>133.780000</td>\n",
       "      <td>12.025000</td>\n",
       "      <td>1.390200</td>\n",
       "      <td>66.601000</td>\n",
       "    </tr>\n",
       "    <tr>\n",
       "      <th>75%</th>\n",
       "      <td>23.862500</td>\n",
       "      <td>1016.90000</td>\n",
       "      <td>90.043500</td>\n",
       "      <td>4.550900</td>\n",
       "      <td>27.184000</td>\n",
       "      <td>1096.000000</td>\n",
       "      <td>550.060000</td>\n",
       "      <td>140.895000</td>\n",
       "      <td>12.578000</td>\n",
       "      <td>2.160400</td>\n",
       "      <td>73.935500</td>\n",
       "    </tr>\n",
       "    <tr>\n",
       "      <th>max</th>\n",
       "      <td>34.929000</td>\n",
       "      <td>1034.20000</td>\n",
       "      <td>100.200000</td>\n",
       "      <td>7.610600</td>\n",
       "      <td>37.402000</td>\n",
       "      <td>1100.800000</td>\n",
       "      <td>550.610000</td>\n",
       "      <td>174.610000</td>\n",
       "      <td>15.081000</td>\n",
       "      <td>44.103000</td>\n",
       "      <td>119.890000</td>\n",
       "    </tr>\n",
       "  </tbody>\n",
       "</table>\n",
       "</div>"
      ],
      "text/plain": [
       "                 AT           AP            AH          AFDP          GTEP  \\\n",
       "count  15039.000000  15039.00000  15039.000000  15039.000000  15039.000000   \n",
       "mean      17.764381   1013.19924     79.124174      4.200294     25.419061   \n",
       "std        7.574323      6.41076     13.793439      0.760197      4.173916   \n",
       "min        0.522300    985.85000     30.344000      2.087400     17.878000   \n",
       "25%       11.408000   1008.90000     69.750000      3.723900     23.294000   \n",
       "50%       18.186000   1012.80000     82.266000      4.186200     25.082000   \n",
       "75%       23.862500   1016.90000     90.043500      4.550900     27.184000   \n",
       "max       34.929000   1034.20000    100.200000      7.610600     37.402000   \n",
       "\n",
       "                TIT           TAT           TEY           CDP            CO  \\\n",
       "count  15039.000000  15039.000000  15039.000000  15039.000000  15039.000000   \n",
       "mean    1083.798770    545.396183    134.188464     12.102353      1.972499   \n",
       "std       16.527806      7.866803     15.829717      1.103196      2.222206   \n",
       "min     1000.800000    512.450000    100.170000      9.904400      0.000388   \n",
       "25%     1079.600000    542.170000    127.985000     11.622000      0.858055   \n",
       "50%     1088.700000    549.890000    133.780000     12.025000      1.390200   \n",
       "75%     1096.000000    550.060000    140.895000     12.578000      2.160400   \n",
       "max     1100.800000    550.610000    174.610000     15.081000     44.103000   \n",
       "\n",
       "                NOX  \n",
       "count  15039.000000  \n",
       "mean      68.190934  \n",
       "std       10.470586  \n",
       "min       27.765000  \n",
       "25%       61.303500  \n",
       "50%       66.601000  \n",
       "75%       73.935500  \n",
       "max      119.890000  "
      ]
     },
     "execution_count": 5,
     "metadata": {},
     "output_type": "execute_result"
    }
   ],
   "source": [
    "df.describe()"
   ]
  },
  {
   "cell_type": "code",
   "execution_count": 6,
   "metadata": {},
   "outputs": [
    {
     "data": {
      "text/plain": [
       "<AxesSubplot:xlabel='NOX', ylabel='Count'>"
      ]
     },
     "execution_count": 6,
     "metadata": {},
     "output_type": "execute_result"
    },
    {
     "data": {
      "image/png": "[encoded data removed]",
      "text/plain": [
       "<Figure size 432x288 with 1 Axes>"
      ]
     },
     "metadata": {
      "needs_background": "light"
     },
     "output_type": "display_data"
    }
   ],
   "source": [
    "sns.histplot(df, x='NOX', bins=30)"
   ]
  },
  {
   "cell_type": "code",
   "execution_count": 7,
   "metadata": {},
   "outputs": [
    {
     "data": {
      "text/plain": [
       "<AxesSubplot:xlabel='CO', ylabel='Count'>"
      ]
     },
     "execution_count": 7,
     "metadata": {},
     "output_type": "execute_result"
    },
    {
     "data": {
      "image/png": "[encoded data removed]",
      "text/plain": [
       "<Figure size 432x288 with 1 Axes>"
      ]
     },
     "metadata": {
      "needs_background": "light"
     },
     "output_type": "display_data"
    }
   ],
   "source": [
    "sns.histplot(df, x='CO', bins=30)"
   ]
  },
  {
   "cell_type": "code",
   "execution_count": 8,
   "metadata": {},
   "outputs": [
    {
     "data": {
      "image/png": "[encoded data removed]",
      "text/plain": [
       "<Figure size 720x576 with 2 Axes>"
      ]
     },
     "metadata": {
      "needs_background": "light"
     },
     "output_type": "display_data"
    }
   ],
   "source": [
    "\n",
    "plt.figure(figsize=(10, 8))\n",
    "\n",
    "mask = np.triu(np.ones_like(df.drop(columns=['CO','NOX']).corr()))\n",
    "\n",
    "heatmap = sns.heatmap(df.drop(columns=['CO','NOX']).corr(), mask=mask, vmin=-1, vmax=1, annot=True)\n",
    "\n",
    "heatmap.set_title('Correlation matrix of input variables', fontdict={'fontsize':18}, pad=16);"
   ]
  },
  {
   "cell_type": "code",
   "execution_count": 9,
   "metadata": {},
   "outputs": [
    {
     "data": {
      "image/png": "[encoded data removed]",
      "text/plain": [
       "<Figure size 216x432 with 2 Axes>"
      ]
     },
     "metadata": {
      "needs_background": "light"
     },
     "output_type": "display_data"
    }
   ],
   "source": [
    "plt.figure(figsize=(3, 6))\n",
    "heatmap = sns.heatmap(df.corr()[['CO']].sort_values(by='CO', ascending=False), vmin=-1, vmax=1, annot=True, cmap='BrBG')\n",
    "heatmap.set_title('Features Correlating with CO', fontdict={'fontsize':18}, pad=16);"
   ]
  },
  {
   "cell_type": "code",
   "execution_count": 10,
   "metadata": {},
   "outputs": [
    {
     "data": {
      "image/png": "[encoded data removed]",
      "text/plain": [
       "<Figure size 216x432 with 2 Axes>"
      ]
     },
     "metadata": {
      "needs_background": "light"
     },
     "output_type": "display_data"
    }
   ],
   "source": [
    "plt.figure(figsize=(3, 6))\n",
    "heatmap = sns.heatmap(df.corr()[['NOX']].sort_values(by='NOX', ascending=False), vmin=-1, vmax=1, annot=True, cmap='BrBG')\n",
    "heatmap.set_title('Features Correlating with NOX', fontdict={'fontsize':18}, pad=16);"
   ]
  },
  {
   "cell_type": "markdown",
   "metadata": {},
   "source": [
    "Pairwise "
   ]
  },
  {
   "cell_type": "code",
   "execution_count": 11,
   "metadata": {},
   "outputs": [
    {
     "data": {
      "text/html": [
       "<style  type=\"text/css\" >\n",
       "#T_8d31a_row0_col0{\n",
       "            background-color:  #b7e085;\n",
       "            color:  #000000;\n",
       "        }#T_8d31a_row0_col1,#T_8d31a_row5_col0{\n",
       "            background-color:  #8e0152;\n",
       "            color:  #f1f1f1;\n",
       "        }#T_8d31a_row1_col0{\n",
       "            background-color:  #64a52f;\n",
       "            color:  #000000;\n",
       "        }#T_8d31a_row1_col1,#T_8d31a_row2_col0{\n",
       "            background-color:  #276419;\n",
       "            color:  #f1f1f1;\n",
       "        }#T_8d31a_row2_col1{\n",
       "            background-color:  #5c9e2a;\n",
       "            color:  #000000;\n",
       "        }#T_8d31a_row3_col0{\n",
       "            background-color:  #fce4f0;\n",
       "            color:  #000000;\n",
       "        }#T_8d31a_row3_col1{\n",
       "            background-color:  #cbe9a4;\n",
       "            color:  #000000;\n",
       "        }#T_8d31a_row4_col0{\n",
       "            background-color:  #df7cb1;\n",
       "            color:  #000000;\n",
       "        }#T_8d31a_row4_col1{\n",
       "            background-color:  #faedf3;\n",
       "            color:  #000000;\n",
       "        }#T_8d31a_row5_col1{\n",
       "            background-color:  #fbe7f2;\n",
       "            color:  #000000;\n",
       "        }#T_8d31a_row6_col0{\n",
       "            background-color:  #569927;\n",
       "            color:  #000000;\n",
       "        }#T_8d31a_row6_col1{\n",
       "            background-color:  #b0dc7d;\n",
       "            color:  #000000;\n",
       "        }#T_8d31a_row7_col0{\n",
       "            background-color:  #d65a9f;\n",
       "            color:  #000000;\n",
       "        }#T_8d31a_row7_col1{\n",
       "            background-color:  #e9f5d8;\n",
       "            color:  #000000;\n",
       "        }#T_8d31a_row8_col0{\n",
       "            background-color:  #dd73ac;\n",
       "            color:  #000000;\n",
       "        }#T_8d31a_row8_col1{\n",
       "            background-color:  #f7f7f6;\n",
       "            color:  #000000;\n",
       "        }</style><table id=\"T_8d31a_\" ><thead>    <tr>        <th class=\"blank level0\" ></th>        <th class=\"col_heading level0 col0\" >CO</th>        <th class=\"col_heading level0 col1\" >NOX</th>    </tr></thead><tbody>\n",
       "                <tr>\n",
       "                        <th id=\"T_8d31a_level0_row0\" class=\"row_heading level0 row0\" >AT</th>\n",
       "                        <td id=\"T_8d31a_row0_col0\" class=\"data row0 col0\" >-0.088588</td>\n",
       "                        <td id=\"T_8d31a_row0_col1\" class=\"data row0 col1\" >-0.600006</td>\n",
       "            </tr>\n",
       "            <tr>\n",
       "                        <th id=\"T_8d31a_level0_row1\" class=\"row_heading level0 row1\" >AP</th>\n",
       "                        <td id=\"T_8d31a_row1_col0\" class=\"data row1 col0\" >0.041614</td>\n",
       "                        <td id=\"T_8d31a_row1_col1\" class=\"data row1 col1\" >0.256744</td>\n",
       "            </tr>\n",
       "            <tr>\n",
       "                        <th id=\"T_8d31a_level0_row2\" class=\"row_heading level0 row2\" >AH</th>\n",
       "                        <td id=\"T_8d31a_row2_col0\" class=\"data row2 col0\" >0.165505</td>\n",
       "                        <td id=\"T_8d31a_row2_col1\" class=\"data row2 col1\" >0.143061</td>\n",
       "            </tr>\n",
       "            <tr>\n",
       "                        <th id=\"T_8d31a_level0_row3\" class=\"row_heading level0 row3\" >AFDP</th>\n",
       "                        <td id=\"T_8d31a_row3_col0\" class=\"data row3 col0\" >-0.334207</td>\n",
       "                        <td id=\"T_8d31a_row3_col1\" class=\"data row3 col1\" >-0.037299</td>\n",
       "            </tr>\n",
       "            <tr>\n",
       "                        <th id=\"T_8d31a_level0_row4\" class=\"row_heading level0 row4\" >GTEP</th>\n",
       "                        <td id=\"T_8d31a_row4_col0\" class=\"data row4 col0\" >-0.508259</td>\n",
       "                        <td id=\"T_8d31a_row4_col1\" class=\"data row4 col1\" >-0.208496</td>\n",
       "            </tr>\n",
       "            <tr>\n",
       "                        <th id=\"T_8d31a_level0_row5\" class=\"row_heading level0 row5\" >TIT</th>\n",
       "                        <td id=\"T_8d31a_row5_col0\" class=\"data row5 col0\" >-0.688272</td>\n",
       "                        <td id=\"T_8d31a_row5_col1\" class=\"data row5 col1\" >-0.231636</td>\n",
       "            </tr>\n",
       "            <tr>\n",
       "                        <th id=\"T_8d31a_level0_row6\" class=\"row_heading level0 row6\" >TAT</th>\n",
       "                        <td id=\"T_8d31a_row6_col0\" class=\"data row6 col0\" >0.063404</td>\n",
       "                        <td id=\"T_8d31a_row6_col1\" class=\"data row6 col1\" >0.009888</td>\n",
       "            </tr>\n",
       "            <tr>\n",
       "                        <th id=\"T_8d31a_level0_row7\" class=\"row_heading level0 row7\" >TEY</th>\n",
       "                        <td id=\"T_8d31a_row7_col0\" class=\"data row7 col0\" >-0.541751</td>\n",
       "                        <td id=\"T_8d31a_row7_col1\" class=\"data row7 col1\" >-0.102631</td>\n",
       "            </tr>\n",
       "            <tr>\n",
       "                        <th id=\"T_8d31a_level0_row8\" class=\"row_heading level0 row8\" >CDP</th>\n",
       "                        <td id=\"T_8d31a_row8_col0\" class=\"data row8 col0\" >-0.520783</td>\n",
       "                        <td id=\"T_8d31a_row8_col1\" class=\"data row8 col1\" >-0.169103</td>\n",
       "            </tr>\n",
       "    </tbody></table>"
      ],
      "text/plain": [
       "<pandas.io.formats.style.Styler at 0x16c4b02a6d0>"
      ]
     },
     "execution_count": 11,
     "metadata": {},
     "output_type": "execute_result"
    }
   ],
   "source": [
    "CO_list = []\n",
    "NOX_list = []\n",
    "\n",
    "for column in df.columns[:-2]:\n",
    "    CO_list.append(df['CO'].corr(df[column]))\n",
    "    NOX_list.append(df['NOX'].corr(df[column]))\n",
    "corr_df = pd.DataFrame({'CO': CO_list, 'NOX': NOX_list},index=df.columns[:-2])    \n",
    "\n",
    "\n",
    "cm = sns.light_palette(\"green\", as_cmap=True)\n",
    "\n",
    "corr_df.style.background_gradient(cmap='PiYG')"
   ]
  },
  {
   "cell_type": "markdown",
   "metadata": {},
   "source": [
    "# Prediction"
   ]
  },
  {
   "cell_type": "code",
   "execution_count": 12,
   "metadata": {},
   "outputs": [],
   "source": [
    "from sklearn.ensemble import HistGradientBoostingRegressor\n",
    "from sklearn.pipeline import make_pipeline\n",
    "from sklearn.model_selection import train_test_split, KFold, RandomizedSearchCV, GridSearchCV, cross_val_score\n",
    "from sklearn.preprocessing import MinMaxScaler\n",
    "from sklearn.metrics import r2_score"
   ]
  },
  {
   "cell_type": "code",
   "execution_count": 13,
   "metadata": {},
   "outputs": [],
   "source": [
    "X = df.drop(columns=['CO','NOX'], axis=1)"
   ]
  },
  {
   "cell_type": "code",
   "execution_count": 14,
   "metadata": {},
   "outputs": [],
   "source": [
    "X = df[['TIT','TEY','CDP']]\n",
    "\n",
    "y = df['CO']\n",
    "\n",
    "\n",
    "\n",
    "X_train, X_test, y_train, y_test = train_test_split(\n",
    "    X, y, train_size=0.65,random_state=42\n",
    ")"
   ]
  },
  {
   "cell_type": "code",
   "execution_count": 15,
   "metadata": {},
   "outputs": [
    {
     "name": "stdout",
     "output_type": "stream",
     "text": [
      "[0]\tvalidation_0-mape:0.65336\tvalidation_1-mape:0.96567\n",
      "[1]\tvalidation_0-mape:0.63203\tvalidation_1-mape:0.95911\n",
      "[2]\tvalidation_0-mape:0.64907\tvalidation_1-mape:0.99267\n",
      "[3]\tvalidation_0-mape:0.66522\tvalidation_1-mape:1.03152\n",
      "[4]\tvalidation_0-mape:0.67920\tvalidation_1-mape:1.05297\n",
      "[5]\tvalidation_0-mape:0.69418\tvalidation_1-mape:1.07619\n",
      "[6]\tvalidation_0-mape:0.70795\tvalidation_1-mape:1.09934\n",
      "[7]\tvalidation_0-mape:0.72090\tvalidation_1-mape:1.12561\n",
      "[8]\tvalidation_0-mape:0.73170\tvalidation_1-mape:1.13073\n",
      "[9]\tvalidation_0-mape:0.73528\tvalidation_1-mape:1.13268\n",
      "[10]\tvalidation_0-mape:0.73426\tvalidation_1-mape:1.13238\n",
      "[11]\tvalidation_0-mape:0.73408\tvalidation_1-mape:1.13509\n"
     ]
    },
    {
     "data": {
      "text/plain": [
       "XGBRegressor(base_score=0.5, booster='gbtree', colsample_bylevel=1,\n",
       "             colsample_bynode=1, colsample_bytree=0.8, enable_categorical=False,\n",
       "             eta=0.3, gamma=0, gpu_id=-1, importance_type=None,\n",
       "             interaction_constraints='', learning_rate=0.300000012,\n",
       "             max_delta_step=0, max_depth=8, min_child_weight=300, missing=nan,\n",
       "             monotone_constraints='()', n_estimators=1000, n_jobs=8,\n",
       "             num_parallel_tree=1, predictor='auto', random_state=42,\n",
       "             reg_alpha=0, reg_lambda=1, scale_pos_weight=1, seed=42,\n",
       "             subsample=0.8, tree_method='exact', validate_parameters=1,\n",
       "             verbosity=None)"
      ]
     },
     "execution_count": 15,
     "metadata": {},
     "output_type": "execute_result"
    }
   ],
   "source": [
    "# https://towardsdatascience.com/using-gradient-boosting-for-time-series-prediction-tasks-600fac66a5fc\n",
    "\n",
    "from xgboost import XGBRegressor\n",
    "model = XGBRegressor(\n",
    "    max_depth=8,\n",
    "    n_estimators=1000,\n",
    "    min_child_weight=300, \n",
    "    colsample_bytree=0.8, \n",
    "    subsample=0.8, \n",
    "    eta=0.3,    \n",
    "    seed=42)\n",
    "model.fit(\n",
    "    X_train, \n",
    "    y_train, \n",
    "    eval_metric=\"mape\", \n",
    "    eval_set=[(X_train, y_train), (X_test, y_test)], \n",
    "    verbose=True, \n",
    "    early_stopping_rounds = 10)"
   ]
  },
  {
   "cell_type": "code",
   "execution_count": 16,
   "metadata": {},
   "outputs": [
    {
     "data": {
      "text/plain": [
       "0.6826807669511329"
      ]
     },
     "execution_count": 16,
     "metadata": {},
     "output_type": "execute_result"
    }
   ],
   "source": [
    "from sklearn.ensemble import GradientBoostingRegressor\n",
    "\n",
    "\n",
    "reg = GradientBoostingRegressor(random_state=0)\n",
    "reg.fit(X_train, y_train)\n",
    "\n",
    "preds = reg.predict(X_test)\n",
    "\n",
    "r2_score(y_test, preds)"
   ]
  },
  {
   "cell_type": "code",
   "execution_count": 17,
   "metadata": {},
   "outputs": [
    {
     "data": {
      "text/plain": [
       "0.6040143496051434"
      ]
     },
     "execution_count": 17,
     "metadata": {},
     "output_type": "execute_result"
    }
   ],
   "source": [
    "from sklearn.metrics import mean_absolute_error\n",
    "# Mean absolute error\n",
    "mae_test = mean_absolute_error(y_true=y_test, y_pred=preds)\n",
    "mae_test"
   ]
  },
  {
   "cell_type": "code",
   "execution_count": 18,
   "metadata": {},
   "outputs": [],
   "source": [
    "#Defining MAPE function\n",
    "def mape_fun(Y_actual,Y_Predicted):\n",
    "    mape = np.mean(np.abs((Y_actual - Y_Predicted)/Y_actual))*100\n",
    "    return mape"
   ]
  },
  {
   "cell_type": "code",
   "execution_count": 19,
   "metadata": {},
   "outputs": [
    {
     "data": {
      "text/plain": [
       "117.47867117649938"
      ]
     },
     "execution_count": 19,
     "metadata": {},
     "output_type": "execute_result"
    }
   ],
   "source": [
    "mape_fun(y_test,preds)"
   ]
  },
  {
   "cell_type": "code",
   "execution_count": 20,
   "metadata": {},
   "outputs": [
    {
     "name": "stdout",
     "output_type": "stream",
     "text": [
      "[0]\tvalidation_0-mape:0.69129\tvalidation_1-mape:0.69156\n",
      "[1]\tvalidation_0-mape:0.48006\tvalidation_1-mape:0.48055\n",
      "[2]\tvalidation_0-mape:0.33256\tvalidation_1-mape:0.33329\n",
      "[3]\tvalidation_0-mape:0.22988\tvalidation_1-mape:0.23055\n",
      "[4]\tvalidation_0-mape:0.16279\tvalidation_1-mape:0.16315\n",
      "[5]\tvalidation_0-mape:0.12365\tvalidation_1-mape:0.12358\n",
      "[6]\tvalidation_0-mape:0.10365\tvalidation_1-mape:0.10331\n",
      "[7]\tvalidation_0-mape:0.09425\tvalidation_1-mape:0.09372\n",
      "[8]\tvalidation_0-mape:0.08983\tvalidation_1-mape:0.08922\n",
      "[9]\tvalidation_0-mape:0.08775\tvalidation_1-mape:0.08732\n",
      "[10]\tvalidation_0-mape:0.08677\tvalidation_1-mape:0.08656\n",
      "[11]\tvalidation_0-mape:0.08640\tvalidation_1-mape:0.08629\n",
      "[12]\tvalidation_0-mape:0.08628\tvalidation_1-mape:0.08627\n",
      "[13]\tvalidation_0-mape:0.08631\tvalidation_1-mape:0.08633\n",
      "[14]\tvalidation_0-mape:0.08634\tvalidation_1-mape:0.08642\n",
      "[15]\tvalidation_0-mape:0.08635\tvalidation_1-mape:0.08650\n",
      "[16]\tvalidation_0-mape:0.08636\tvalidation_1-mape:0.08652\n",
      "[17]\tvalidation_0-mape:0.08641\tvalidation_1-mape:0.08661\n",
      "[18]\tvalidation_0-mape:0.08643\tvalidation_1-mape:0.08660\n",
      "[19]\tvalidation_0-mape:0.08645\tvalidation_1-mape:0.08659\n",
      "[20]\tvalidation_0-mape:0.08643\tvalidation_1-mape:0.08665\n",
      "[21]\tvalidation_0-mape:0.08642\tvalidation_1-mape:0.08668\n",
      "[22]\tvalidation_0-mape:0.08643\tvalidation_1-mape:0.08670\n"
     ]
    },
    {
     "data": {
      "text/plain": [
       "XGBRegressor(base_score=0.5, booster='gbtree', colsample_bylevel=1,\n",
       "             colsample_bynode=1, colsample_bytree=0.8, enable_categorical=False,\n",
       "             eta=0.3, gamma=0, gpu_id=-1, importance_type=None,\n",
       "             interaction_constraints='', learning_rate=0.300000012,\n",
       "             max_delta_step=0, max_depth=8, min_child_weight=300, missing=nan,\n",
       "             monotone_constraints='()', n_estimators=1000, n_jobs=8,\n",
       "             num_parallel_tree=1, predictor='auto', random_state=42,\n",
       "             reg_alpha=0, reg_lambda=1, scale_pos_weight=1, seed=42,\n",
       "             subsample=0.8, tree_method='exact', validate_parameters=1,\n",
       "             verbosity=None)"
      ]
     },
     "execution_count": 20,
     "metadata": {},
     "output_type": "execute_result"
    }
   ],
   "source": [
    "X = df[['AT']]\n",
    "\n",
    "y = df['NOX']\n",
    "\n",
    "\n",
    "\n",
    "X_train, X_test, y_train, y_test = train_test_split(\n",
    "    X, y, train_size=0.65,random_state=42\n",
    ")\n",
    "\n",
    "# https://towardsdatascience.com/using-gradient-boosting-for-time-series-prediction-tasks-600fac66a5fc\n",
    "\n",
    "from xgboost import XGBRegressor\n",
    "model = XGBRegressor(\n",
    "    max_depth=8,\n",
    "    n_estimators=1000,\n",
    "    min_child_weight=300, \n",
    "    colsample_bytree=0.8, \n",
    "    subsample=0.8, \n",
    "    eta=0.3,    \n",
    "    seed=42)\n",
    "model.fit(\n",
    "    X_train, \n",
    "    y_train, \n",
    "    eval_metric=\"mape\", \n",
    "    eval_set=[(X_train, y_train), (X_test, y_test)], \n",
    "    verbose=True, \n",
    "    early_stopping_rounds = 10)"
   ]
  },
  {
   "cell_type": "code",
   "execution_count": 21,
   "metadata": {},
   "outputs": [
    {
     "data": {
      "text/plain": [
       "0.39952017949204055"
      ]
     },
     "execution_count": 21,
     "metadata": {},
     "output_type": "execute_result"
    }
   ],
   "source": [
    "reg = GradientBoostingRegressor(random_state=0)\n",
    "reg.fit(X_train, y_train)\n",
    "\n",
    "preds = reg.predict(X_test)\n",
    "\n",
    "r2_score(y_test, preds)"
   ]
  },
  {
   "cell_type": "code",
   "execution_count": 22,
   "metadata": {},
   "outputs": [
    {
     "data": {
      "text/plain": [
       "5.929144331305397"
      ]
     },
     "execution_count": 22,
     "metadata": {},
     "output_type": "execute_result"
    }
   ],
   "source": [
    "mae_test = mean_absolute_error(y_true=y_test, y_pred=preds)\n",
    "mae_test"
   ]
  },
  {
   "cell_type": "code",
   "execution_count": 23,
   "metadata": {},
   "outputs": [
    {
     "data": {
      "text/plain": [
       "8.664392555697313"
      ]
     },
     "execution_count": 23,
     "metadata": {},
     "output_type": "execute_result"
    }
   ],
   "source": [
    "mape_fun(y_test,preds)"
   ]
  },
  {
   "cell_type": "code",
   "execution_count": null,
   "metadata": {},
   "outputs": [],
   "source": []
  }
 ],
 "metadata": {
  "interpreter": {
   "hash": "854e1f39e37c1f3c7b759d65040b61baf6b5ecea292a6acf12895e3741ee9aa7"
  },
  "kernelspec": {
   "display_name": "Python 3",
   "language": "python",
   "name": "python3"
  },
  "language_info": {
   "codemirror_mode": {
    "name": "ipython",
    "version": 3
   },
   "file_extension": ".py",
   "mimetype": "text/x-python",
   "name": "python",
   "nbconvert_exporter": "python",
   "pygments_lexer": "ipython3",
   "version": "3.8.8"
  }
 },
 "nbformat": 4,
 "nbformat_minor": 4
}
