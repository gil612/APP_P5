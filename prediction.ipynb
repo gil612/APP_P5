{
 "cells": [
  {
   "cell_type": "code",
   "execution_count": 1,
   "metadata": {},
   "outputs": [],
   "source": [
    "import numpy as np\n",
    "import pandas as pd\n",
    "import seaborn as sns\n",
    "import matplotlib.pyplot as plt\n",
    "import plotly.express as px"
   ]
  },
  {
   "cell_type": "code",
   "execution_count": 2,
   "metadata": {},
   "outputs": [],
   "source": [
    "df = pd.read_parquet('gt2011-gt2015.parquet')"
   ]
  },
  {
   "cell_type": "code",
   "execution_count": 3,
   "metadata": {},
   "outputs": [
    {
     "data": {
      "text/html": [
       "<div>\n",
       "<style scoped>\n",
       "    .dataframe tbody tr th:only-of-type {\n",
       "        vertical-align: middle;\n",
       "    }\n",
       "\n",
       "    .dataframe tbody tr th {\n",
       "        vertical-align: top;\n",
       "    }\n",
       "\n",
       "    .dataframe thead th {\n",
       "        text-align: right;\n",
       "    }\n",
       "</style>\n",
       "<table border=\"1\" class=\"dataframe\">\n",
       "  <thead>\n",
       "    <tr style=\"text-align: right;\">\n",
       "      <th></th>\n",
       "      <th>AT</th>\n",
       "      <th>AP</th>\n",
       "      <th>AH</th>\n",
       "      <th>AFDP</th>\n",
       "      <th>GTEP</th>\n",
       "      <th>TIT</th>\n",
       "      <th>TAT</th>\n",
       "      <th>TEY</th>\n",
       "      <th>CDP</th>\n",
       "      <th>CO</th>\n",
       "      <th>NOX</th>\n",
       "      <th>Datetime</th>\n",
       "    </tr>\n",
       "  </thead>\n",
       "  <tbody>\n",
       "    <tr>\n",
       "      <th>0</th>\n",
       "      <td>4.5878</td>\n",
       "      <td>1018.7</td>\n",
       "      <td>83.675</td>\n",
       "      <td>3.5758</td>\n",
       "      <td>23.979</td>\n",
       "      <td>1086.2</td>\n",
       "      <td>549.83</td>\n",
       "      <td>134.67</td>\n",
       "      <td>11.898</td>\n",
       "      <td>0.32663</td>\n",
       "      <td>81.952</td>\n",
       "      <td>2011-01-01 00:00:00</td>\n",
       "    </tr>\n",
       "    <tr>\n",
       "      <th>1</th>\n",
       "      <td>4.2932</td>\n",
       "      <td>1018.3</td>\n",
       "      <td>84.235</td>\n",
       "      <td>3.5709</td>\n",
       "      <td>23.951</td>\n",
       "      <td>1086.1</td>\n",
       "      <td>550.05</td>\n",
       "      <td>134.67</td>\n",
       "      <td>11.892</td>\n",
       "      <td>0.44784</td>\n",
       "      <td>82.377</td>\n",
       "      <td>2011-01-01 01:10:55</td>\n",
       "    </tr>\n",
       "    <tr>\n",
       "      <th>2</th>\n",
       "      <td>3.9045</td>\n",
       "      <td>1018.4</td>\n",
       "      <td>84.858</td>\n",
       "      <td>3.5828</td>\n",
       "      <td>23.990</td>\n",
       "      <td>1086.5</td>\n",
       "      <td>550.19</td>\n",
       "      <td>135.10</td>\n",
       "      <td>12.042</td>\n",
       "      <td>0.45144</td>\n",
       "      <td>83.776</td>\n",
       "      <td>2011-01-01 02:21:50</td>\n",
       "    </tr>\n",
       "    <tr>\n",
       "      <th>3</th>\n",
       "      <td>3.7436</td>\n",
       "      <td>1018.3</td>\n",
       "      <td>85.434</td>\n",
       "      <td>3.5808</td>\n",
       "      <td>23.911</td>\n",
       "      <td>1086.5</td>\n",
       "      <td>550.17</td>\n",
       "      <td>135.03</td>\n",
       "      <td>11.990</td>\n",
       "      <td>0.23107</td>\n",
       "      <td>82.505</td>\n",
       "      <td>2011-01-01 03:32:45</td>\n",
       "    </tr>\n",
       "    <tr>\n",
       "      <th>4</th>\n",
       "      <td>3.7516</td>\n",
       "      <td>1017.8</td>\n",
       "      <td>85.182</td>\n",
       "      <td>3.5781</td>\n",
       "      <td>23.917</td>\n",
       "      <td>1085.9</td>\n",
       "      <td>550.00</td>\n",
       "      <td>134.67</td>\n",
       "      <td>11.910</td>\n",
       "      <td>0.26747</td>\n",
       "      <td>82.028</td>\n",
       "      <td>2011-01-01 04:43:40</td>\n",
       "    </tr>\n",
       "    <tr>\n",
       "      <th>...</th>\n",
       "      <td>...</td>\n",
       "      <td>...</td>\n",
       "      <td>...</td>\n",
       "      <td>...</td>\n",
       "      <td>...</td>\n",
       "      <td>...</td>\n",
       "      <td>...</td>\n",
       "      <td>...</td>\n",
       "      <td>...</td>\n",
       "      <td>...</td>\n",
       "      <td>...</td>\n",
       "      <td>...</td>\n",
       "    </tr>\n",
       "    <tr>\n",
       "      <th>36728</th>\n",
       "      <td>3.6268</td>\n",
       "      <td>1028.5</td>\n",
       "      <td>93.200</td>\n",
       "      <td>3.1661</td>\n",
       "      <td>19.087</td>\n",
       "      <td>1037.0</td>\n",
       "      <td>541.59</td>\n",
       "      <td>109.08</td>\n",
       "      <td>10.411</td>\n",
       "      <td>10.99300</td>\n",
       "      <td>89.172</td>\n",
       "      <td>2015-12-31 18:21:49</td>\n",
       "    </tr>\n",
       "    <tr>\n",
       "      <th>36729</th>\n",
       "      <td>4.1674</td>\n",
       "      <td>1028.6</td>\n",
       "      <td>94.036</td>\n",
       "      <td>3.1923</td>\n",
       "      <td>19.016</td>\n",
       "      <td>1037.6</td>\n",
       "      <td>542.28</td>\n",
       "      <td>108.79</td>\n",
       "      <td>10.344</td>\n",
       "      <td>11.14400</td>\n",
       "      <td>88.849</td>\n",
       "      <td>2015-12-31 19:33:00</td>\n",
       "    </tr>\n",
       "    <tr>\n",
       "      <th>36730</th>\n",
       "      <td>5.4820</td>\n",
       "      <td>1028.5</td>\n",
       "      <td>95.219</td>\n",
       "      <td>3.3128</td>\n",
       "      <td>18.857</td>\n",
       "      <td>1038.0</td>\n",
       "      <td>543.48</td>\n",
       "      <td>107.81</td>\n",
       "      <td>10.462</td>\n",
       "      <td>11.41400</td>\n",
       "      <td>96.147</td>\n",
       "      <td>2015-12-31 20:44:11</td>\n",
       "    </tr>\n",
       "    <tr>\n",
       "      <th>36731</th>\n",
       "      <td>5.8837</td>\n",
       "      <td>1028.7</td>\n",
       "      <td>94.200</td>\n",
       "      <td>3.9831</td>\n",
       "      <td>23.563</td>\n",
       "      <td>1076.9</td>\n",
       "      <td>550.11</td>\n",
       "      <td>131.41</td>\n",
       "      <td>11.771</td>\n",
       "      <td>3.31340</td>\n",
       "      <td>64.738</td>\n",
       "      <td>2015-12-31 21:55:22</td>\n",
       "    </tr>\n",
       "    <tr>\n",
       "      <th>36732</th>\n",
       "      <td>6.0392</td>\n",
       "      <td>1028.8</td>\n",
       "      <td>94.547</td>\n",
       "      <td>3.8752</td>\n",
       "      <td>22.524</td>\n",
       "      <td>1067.9</td>\n",
       "      <td>548.23</td>\n",
       "      <td>125.41</td>\n",
       "      <td>11.462</td>\n",
       "      <td>11.98100</td>\n",
       "      <td>109.240</td>\n",
       "      <td>2015-12-31 23:06:33</td>\n",
       "    </tr>\n",
       "  </tbody>\n",
       "</table>\n",
       "<p>36733 rows × 12 columns</p>\n",
       "</div>"
      ],
      "text/plain": [
       "           AT      AP      AH    AFDP    GTEP     TIT     TAT     TEY     CDP  \\\n",
       "0      4.5878  1018.7  83.675  3.5758  23.979  1086.2  549.83  134.67  11.898   \n",
       "1      4.2932  1018.3  84.235  3.5709  23.951  1086.1  550.05  134.67  11.892   \n",
       "2      3.9045  1018.4  84.858  3.5828  23.990  1086.5  550.19  135.10  12.042   \n",
       "3      3.7436  1018.3  85.434  3.5808  23.911  1086.5  550.17  135.03  11.990   \n",
       "4      3.7516  1017.8  85.182  3.5781  23.917  1085.9  550.00  134.67  11.910   \n",
       "...       ...     ...     ...     ...     ...     ...     ...     ...     ...   \n",
       "36728  3.6268  1028.5  93.200  3.1661  19.087  1037.0  541.59  109.08  10.411   \n",
       "36729  4.1674  1028.6  94.036  3.1923  19.016  1037.6  542.28  108.79  10.344   \n",
       "36730  5.4820  1028.5  95.219  3.3128  18.857  1038.0  543.48  107.81  10.462   \n",
       "36731  5.8837  1028.7  94.200  3.9831  23.563  1076.9  550.11  131.41  11.771   \n",
       "36732  6.0392  1028.8  94.547  3.8752  22.524  1067.9  548.23  125.41  11.462   \n",
       "\n",
       "             CO      NOX            Datetime  \n",
       "0       0.32663   81.952 2011-01-01 00:00:00  \n",
       "1       0.44784   82.377 2011-01-01 01:10:55  \n",
       "2       0.45144   83.776 2011-01-01 02:21:50  \n",
       "3       0.23107   82.505 2011-01-01 03:32:45  \n",
       "4       0.26747   82.028 2011-01-01 04:43:40  \n",
       "...         ...      ...                 ...  \n",
       "36728  10.99300   89.172 2015-12-31 18:21:49  \n",
       "36729  11.14400   88.849 2015-12-31 19:33:00  \n",
       "36730  11.41400   96.147 2015-12-31 20:44:11  \n",
       "36731   3.31340   64.738 2015-12-31 21:55:22  \n",
       "36732  11.98100  109.240 2015-12-31 23:06:33  \n",
       "\n",
       "[36733 rows x 12 columns]"
      ]
     },
     "execution_count": 3,
     "metadata": {},
     "output_type": "execute_result"
    }
   ],
   "source": [
    "df"
   ]
  },
  {
   "cell_type": "code",
   "execution_count": 4,
   "metadata": {},
   "outputs": [
    {
     "data": {
      "text/html": [
       "<div>\n",
       "<style scoped>\n",
       "    .dataframe tbody tr th:only-of-type {\n",
       "        vertical-align: middle;\n",
       "    }\n",
       "\n",
       "    .dataframe tbody tr th {\n",
       "        vertical-align: top;\n",
       "    }\n",
       "\n",
       "    .dataframe thead th {\n",
       "        text-align: right;\n",
       "    }\n",
       "</style>\n",
       "<table border=\"1\" class=\"dataframe\">\n",
       "  <thead>\n",
       "    <tr style=\"text-align: right;\">\n",
       "      <th></th>\n",
       "      <th>AT</th>\n",
       "      <th>AP</th>\n",
       "      <th>AH</th>\n",
       "      <th>AFDP</th>\n",
       "      <th>GTEP</th>\n",
       "      <th>TIT</th>\n",
       "      <th>TAT</th>\n",
       "      <th>TEY</th>\n",
       "      <th>CDP</th>\n",
       "      <th>CO</th>\n",
       "      <th>NOX</th>\n",
       "    </tr>\n",
       "  </thead>\n",
       "  <tbody>\n",
       "    <tr>\n",
       "      <th>count</th>\n",
       "      <td>36733.000000</td>\n",
       "      <td>36733.000000</td>\n",
       "      <td>36733.000000</td>\n",
       "      <td>36733.000000</td>\n",
       "      <td>36733.000000</td>\n",
       "      <td>36733.000000</td>\n",
       "      <td>36733.000000</td>\n",
       "      <td>36733.000000</td>\n",
       "      <td>36733.000000</td>\n",
       "      <td>36733.000000</td>\n",
       "      <td>36733.000000</td>\n",
       "    </tr>\n",
       "    <tr>\n",
       "      <th>mean</th>\n",
       "      <td>17.712726</td>\n",
       "      <td>1013.070165</td>\n",
       "      <td>77.867015</td>\n",
       "      <td>3.925518</td>\n",
       "      <td>25.563801</td>\n",
       "      <td>1081.428084</td>\n",
       "      <td>546.158517</td>\n",
       "      <td>133.506404</td>\n",
       "      <td>12.060525</td>\n",
       "      <td>2.372468</td>\n",
       "      <td>65.293067</td>\n",
       "    </tr>\n",
       "    <tr>\n",
       "      <th>std</th>\n",
       "      <td>7.447451</td>\n",
       "      <td>6.463346</td>\n",
       "      <td>14.461355</td>\n",
       "      <td>0.773936</td>\n",
       "      <td>4.195957</td>\n",
       "      <td>17.536373</td>\n",
       "      <td>6.842360</td>\n",
       "      <td>15.618634</td>\n",
       "      <td>1.088795</td>\n",
       "      <td>2.262672</td>\n",
       "      <td>11.678357</td>\n",
       "    </tr>\n",
       "    <tr>\n",
       "      <th>min</th>\n",
       "      <td>-6.234800</td>\n",
       "      <td>985.850000</td>\n",
       "      <td>24.085000</td>\n",
       "      <td>2.087400</td>\n",
       "      <td>17.698000</td>\n",
       "      <td>1000.800000</td>\n",
       "      <td>511.040000</td>\n",
       "      <td>100.020000</td>\n",
       "      <td>9.851800</td>\n",
       "      <td>0.000388</td>\n",
       "      <td>25.905000</td>\n",
       "    </tr>\n",
       "    <tr>\n",
       "      <th>25%</th>\n",
       "      <td>11.781000</td>\n",
       "      <td>1008.800000</td>\n",
       "      <td>68.188000</td>\n",
       "      <td>3.355600</td>\n",
       "      <td>23.129000</td>\n",
       "      <td>1071.800000</td>\n",
       "      <td>544.720000</td>\n",
       "      <td>124.450000</td>\n",
       "      <td>11.435000</td>\n",
       "      <td>1.182400</td>\n",
       "      <td>57.162000</td>\n",
       "    </tr>\n",
       "    <tr>\n",
       "      <th>50%</th>\n",
       "      <td>17.801000</td>\n",
       "      <td>1012.600000</td>\n",
       "      <td>80.470000</td>\n",
       "      <td>3.937700</td>\n",
       "      <td>25.104000</td>\n",
       "      <td>1085.900000</td>\n",
       "      <td>549.880000</td>\n",
       "      <td>133.730000</td>\n",
       "      <td>11.965000</td>\n",
       "      <td>1.713500</td>\n",
       "      <td>63.849000</td>\n",
       "    </tr>\n",
       "    <tr>\n",
       "      <th>75%</th>\n",
       "      <td>23.665000</td>\n",
       "      <td>1017.000000</td>\n",
       "      <td>89.376000</td>\n",
       "      <td>4.376900</td>\n",
       "      <td>29.061000</td>\n",
       "      <td>1097.000000</td>\n",
       "      <td>550.040000</td>\n",
       "      <td>144.080000</td>\n",
       "      <td>12.855000</td>\n",
       "      <td>2.842900</td>\n",
       "      <td>71.548000</td>\n",
       "    </tr>\n",
       "    <tr>\n",
       "      <th>max</th>\n",
       "      <td>37.103000</td>\n",
       "      <td>1036.600000</td>\n",
       "      <td>100.200000</td>\n",
       "      <td>7.610600</td>\n",
       "      <td>40.716000</td>\n",
       "      <td>1100.900000</td>\n",
       "      <td>550.610000</td>\n",
       "      <td>179.500000</td>\n",
       "      <td>15.159000</td>\n",
       "      <td>44.103000</td>\n",
       "      <td>119.910000</td>\n",
       "    </tr>\n",
       "  </tbody>\n",
       "</table>\n",
       "</div>"
      ],
      "text/plain": [
       "                 AT            AP            AH          AFDP          GTEP  \\\n",
       "count  36733.000000  36733.000000  36733.000000  36733.000000  36733.000000   \n",
       "mean      17.712726   1013.070165     77.867015      3.925518     25.563801   \n",
       "std        7.447451      6.463346     14.461355      0.773936      4.195957   \n",
       "min       -6.234800    985.850000     24.085000      2.087400     17.698000   \n",
       "25%       11.781000   1008.800000     68.188000      3.355600     23.129000   \n",
       "50%       17.801000   1012.600000     80.470000      3.937700     25.104000   \n",
       "75%       23.665000   1017.000000     89.376000      4.376900     29.061000   \n",
       "max       37.103000   1036.600000    100.200000      7.610600     40.716000   \n",
       "\n",
       "                TIT           TAT           TEY           CDP            CO  \\\n",
       "count  36733.000000  36733.000000  36733.000000  36733.000000  36733.000000   \n",
       "mean    1081.428084    546.158517    133.506404     12.060525      2.372468   \n",
       "std       17.536373      6.842360     15.618634      1.088795      2.262672   \n",
       "min     1000.800000    511.040000    100.020000      9.851800      0.000388   \n",
       "25%     1071.800000    544.720000    124.450000     11.435000      1.182400   \n",
       "50%     1085.900000    549.880000    133.730000     11.965000      1.713500   \n",
       "75%     1097.000000    550.040000    144.080000     12.855000      2.842900   \n",
       "max     1100.900000    550.610000    179.500000     15.159000     44.103000   \n",
       "\n",
       "                NOX  \n",
       "count  36733.000000  \n",
       "mean      65.293067  \n",
       "std       11.678357  \n",
       "min       25.905000  \n",
       "25%       57.162000  \n",
       "50%       63.849000  \n",
       "75%       71.548000  \n",
       "max      119.910000  "
      ]
     },
     "execution_count": 4,
     "metadata": {},
     "output_type": "execute_result"
    }
   ],
   "source": [
    "df.describe()"
   ]
  },
  {
   "cell_type": "code",
   "execution_count": 5,
   "metadata": {},
   "outputs": [
    {
     "data": {
      "text/plain": [
       "<AxesSubplot:xlabel='NOX', ylabel='Count'>"
      ]
     },
     "execution_count": 5,
     "metadata": {},
     "output_type": "execute_result"
    },
    {
     "data": {
      "image/png": "[encoded data removed]",
      "text/plain": [
       "<Figure size 432x288 with 1 Axes>"
      ]
     },
     "metadata": {
      "needs_background": "light"
     },
     "output_type": "display_data"
    }
   ],
   "source": [
    "sns.histplot(df, x='NOX', bins=20)"
   ]
  },
  {
   "cell_type": "code",
   "execution_count": 6,
   "metadata": {},
   "outputs": [
    {
     "data": {
      "text/plain": [
       "<AxesSubplot:xlabel='CO', ylabel='Count'>"
      ]
     },
     "execution_count": 6,
     "metadata": {},
     "output_type": "execute_result"
    },
    {
     "data": {
      "image/png": "[encoded data removed]",
      "text/plain": [
       "<Figure size 432x288 with 1 Axes>"
      ]
     },
     "metadata": {
      "needs_background": "light"
     },
     "output_type": "display_data"
    }
   ],
   "source": [
    "sns.histplot(df, x='CO', bins=54)"
   ]
  },
  {
   "cell_type": "code",
   "execution_count": 7,
   "metadata": {},
   "outputs": [
    {
     "data": {
      "image/png": "[encoded data removed]",
      "text/plain": [
       "<Figure size 720x576 with 2 Axes>"
      ]
     },
     "metadata": {
      "needs_background": "light"
     },
     "output_type": "display_data"
    }
   ],
   "source": [
    "\n",
    "plt.figure(figsize=(10, 8))\n",
    "\n",
    "mask = np.triu(np.ones_like(df.drop(columns=['CO','NOX']).corr()))\n",
    "\n",
    "heatmap = sns.heatmap(df.drop(columns=['CO','NOX']).corr(),  vmin=-1, vmax=1, annot=True)\n",
    "\n",
    "heatmap.set_title('Correlation matrix of input variables', fontdict={'fontsize':18}, pad=16);"
   ]
  },
  {
   "cell_type": "code",
   "execution_count": 8,
   "metadata": {},
   "outputs": [
    {
     "data": {
      "text/html": [
       "<style  type=\"text/css\" >\n",
       "#T_161f2_row0_col0{\n",
       "            background-color:  #f2badc;\n",
       "            color:  #000000;\n",
       "        }#T_161f2_row0_col1{\n",
       "            background-color:  #bd1777;\n",
       "            color:  #f1f1f1;\n",
       "        }#T_161f2_row1_col0{\n",
       "            background-color:  #faecf3;\n",
       "            color:  #000000;\n",
       "        }#T_161f2_row1_col1{\n",
       "            background-color:  #f3f6ed;\n",
       "            color:  #000000;\n",
       "        }#T_161f2_row2_col0{\n",
       "            background-color:  #f9f1f5;\n",
       "            color:  #000000;\n",
       "        }#T_161f2_row2_col1{\n",
       "            background-color:  #f5f7f3;\n",
       "            color:  #000000;\n",
       "        }#T_161f2_row3_col0{\n",
       "            background-color:  #d14895;\n",
       "            color:  #000000;\n",
       "        }#T_161f2_row3_col1{\n",
       "            background-color:  #f1b7da;\n",
       "            color:  #000000;\n",
       "        }#T_161f2_row4_col0{\n",
       "            background-color:  #c72482;\n",
       "            color:  #f1f1f1;\n",
       "        }#T_161f2_row4_col1{\n",
       "            background-color:  #f0b2d7;\n",
       "            color:  #000000;\n",
       "        }#T_161f2_row5_col0{\n",
       "            background-color:  #8e0152;\n",
       "            color:  #f1f1f1;\n",
       "        }#T_161f2_row5_col1{\n",
       "            background-color:  #eeadd4;\n",
       "            color:  #000000;\n",
       "        }#T_161f2_row6_col0{\n",
       "            background-color:  #faebf3;\n",
       "            color:  #000000;\n",
       "        }#T_161f2_row6_col1{\n",
       "            background-color:  #f8cee6;\n",
       "            color:  #000000;\n",
       "        }#T_161f2_row7_col0{\n",
       "            background-color:  #b91574;\n",
       "            color:  #f1f1f1;\n",
       "        }#T_161f2_row7_col1{\n",
       "            background-color:  #f6c9e3;\n",
       "            color:  #000000;\n",
       "        }#T_161f2_row8_col0{\n",
       "            background-color:  #c01879;\n",
       "            color:  #f1f1f1;\n",
       "        }#T_161f2_row8_col1{\n",
       "            background-color:  #f3bcdd;\n",
       "            color:  #000000;\n",
       "        }#T_161f2_row9_col0{\n",
       "            background-color:  #276419;\n",
       "            color:  #f1f1f1;\n",
       "        }#T_161f2_row9_col1{\n",
       "            background-color:  #dff2c4;\n",
       "            color:  #000000;\n",
       "        }</style><table id=\"T_161f2_\" ><thead>    <tr>        <th class=\"blank level0\" ></th>        <th class=\"col_heading level0 col0\" >CO</th>        <th class=\"col_heading level0 col1\" >NOX</th>    </tr></thead><tbody>\n",
       "                <tr>\n",
       "                        <th id=\"T_161f2_level0_row0\" class=\"row_heading level0 row0\" >AT</th>\n",
       "                        <td id=\"T_161f2_row0_col0\" class=\"data row0 col0\" >-0.174</td>\n",
       "                        <td id=\"T_161f2_row0_col1\" class=\"data row0 col1\" >-0.558</td>\n",
       "            </tr>\n",
       "            <tr>\n",
       "                        <th id=\"T_161f2_level0_row1\" class=\"row_heading level0 row1\" >AP</th>\n",
       "                        <td id=\"T_161f2_row1_col0\" class=\"data row1 col0\" >0.067</td>\n",
       "                        <td id=\"T_161f2_row1_col1\" class=\"data row1 col1\" >0.192</td>\n",
       "            </tr>\n",
       "            <tr>\n",
       "                        <th id=\"T_161f2_level0_row2\" class=\"row_heading level0 row2\" >AH</th>\n",
       "                        <td id=\"T_161f2_row2_col0\" class=\"data row2 col0\" >0.107</td>\n",
       "                        <td id=\"T_161f2_row2_col1\" class=\"data row2 col1\" >0.165</td>\n",
       "            </tr>\n",
       "            <tr>\n",
       "                        <th id=\"T_161f2_level0_row3\" class=\"row_heading level0 row3\" >AFDP</th>\n",
       "                        <td id=\"T_161f2_row3_col0\" class=\"data row3 col0\" >-0.448</td>\n",
       "                        <td id=\"T_161f2_row3_col1\" class=\"data row3 col1\" >-0.188</td>\n",
       "            </tr>\n",
       "            <tr>\n",
       "                        <th id=\"T_161f2_level0_row4\" class=\"row_heading level0 row4\" >GTEP</th>\n",
       "                        <td id=\"T_161f2_row4_col0\" class=\"data row4 col0\" >-0.519</td>\n",
       "                        <td id=\"T_161f2_row4_col1\" class=\"data row4 col1\" >-0.202</td>\n",
       "            </tr>\n",
       "            <tr>\n",
       "                        <th id=\"T_161f2_level0_row5\" class=\"row_heading level0 row5\" >TIT</th>\n",
       "                        <td id=\"T_161f2_row5_col0\" class=\"data row5 col0\" >-0.706</td>\n",
       "                        <td id=\"T_161f2_row5_col1\" class=\"data row5 col1\" >-0.214</td>\n",
       "            </tr>\n",
       "            <tr>\n",
       "                        <th id=\"T_161f2_level0_row6\" class=\"row_heading level0 row6\" >TAT</th>\n",
       "                        <td id=\"T_161f2_row6_col0\" class=\"data row6 col0\" >0.058</td>\n",
       "                        <td id=\"T_161f2_row6_col1\" class=\"data row6 col1\" >-0.093</td>\n",
       "            </tr>\n",
       "            <tr>\n",
       "                        <th id=\"T_161f2_level0_row7\" class=\"row_heading level0 row7\" >TEY</th>\n",
       "                        <td id=\"T_161f2_row7_col0\" class=\"data row7 col0\" >-0.57</td>\n",
       "                        <td id=\"T_161f2_row7_col1\" class=\"data row7 col1\" >-0.116</td>\n",
       "            </tr>\n",
       "            <tr>\n",
       "                        <th id=\"T_161f2_level0_row8\" class=\"row_heading level0 row8\" >CDP</th>\n",
       "                        <td id=\"T_161f2_row8_col0\" class=\"data row8 col0\" >-0.551</td>\n",
       "                        <td id=\"T_161f2_row8_col1\" class=\"data row8 col1\" >-0.171</td>\n",
       "            </tr>\n",
       "            <tr>\n",
       "                        <th id=\"T_161f2_level0_row9\" class=\"row_heading level0 row9\" >CO</th>\n",
       "                        <td id=\"T_161f2_row9_col0\" class=\"data row9 col0\" >1.0</td>\n",
       "                        <td id=\"T_161f2_row9_col1\" class=\"data row9 col1\" >0.341</td>\n",
       "            </tr>\n",
       "    </tbody></table>"
      ],
      "text/plain": [
       "<pandas.io.formats.style.Styler at 0x21f911ad220>"
      ]
     },
     "metadata": {},
     "output_type": "display_data"
    }
   ],
   "source": [
    "CO_list = []\n",
    "NOX_list = []\n",
    "\n",
    "for column in df.columns[:-2]:\n",
    "    CO_list.append(df['CO'].corr(df[column]))\n",
    "    NOX_list.append(df['NOX'].corr(df[column]))\n",
    "corr_df = pd.DataFrame({'CO': CO_list, 'NOX': NOX_list},index=df.columns[:-2])    \n",
    "\n",
    "\n",
    "cm = sns.light_palette(\"green\", as_cmap=True)\n",
    "\n",
    "display(((corr_df).round(3)).style.background_gradient(cmap=\"PiYG\",axis=None).format(\"{:3}\"))"
   ]
  },
  {
   "cell_type": "markdown",
   "metadata": {},
   "source": [
    "# Prediction"
   ]
  },
  {
   "cell_type": "code",
   "execution_count": 9,
   "metadata": {},
   "outputs": [],
   "source": [
    "train_data = df[df['Datetime'].dt.year.isin([2011, 2012, 2013])]\n",
    "cols = ['GTEP','TIT','TEY','CDP']\n",
    "X_train, y_train = train_data[cols], train_data['CO']\n",
    "test_data = df[df['Datetime'].dt.year.isin([2014, 2015])]\n",
    "X_test, y_test = test_data[cols], test_data['CO']\n"
   ]
  },
  {
   "cell_type": "code",
   "execution_count": 10,
   "metadata": {},
   "outputs": [
    {
     "name": "stdout",
     "output_type": "stream",
     "text": [
      "[0]\tvalidation_0-rmse:2.24596\tvalidation_1-rmse:2.25698\n",
      "[1]\tvalidation_0-rmse:1.86269\tvalidation_1-rmse:1.80658\n",
      "[2]\tvalidation_0-rmse:1.66422\tvalidation_1-rmse:1.65607\n",
      "[3]\tvalidation_0-rmse:1.52547\tvalidation_1-rmse:1.55078\n",
      "[4]\tvalidation_0-rmse:1.46887\tvalidation_1-rmse:1.54065\n",
      "[5]\tvalidation_0-rmse:1.42006\tvalidation_1-rmse:1.54746\n",
      "[6]\tvalidation_0-rmse:1.39127\tvalidation_1-rmse:1.56982\n",
      "[7]\tvalidation_0-rmse:1.37077\tvalidation_1-rmse:1.59591\n",
      "[8]\tvalidation_0-rmse:1.35875\tvalidation_1-rmse:1.63354\n",
      "[9]\tvalidation_0-rmse:1.35054\tvalidation_1-rmse:1.67522\n",
      "[10]\tvalidation_0-rmse:1.34599\tvalidation_1-rmse:1.70292\n",
      "[11]\tvalidation_0-rmse:1.34137\tvalidation_1-rmse:1.71784\n",
      "[12]\tvalidation_0-rmse:1.33514\tvalidation_1-rmse:1.74038\n",
      "[13]\tvalidation_0-rmse:1.33173\tvalidation_1-rmse:1.76260\n"
     ]
    },
    {
     "data": {
      "text/plain": [
       "XGBRegressor(base_score=0.5, booster='gbtree', colsample_bylevel=1,\n",
       "             colsample_bynode=1, colsample_bytree=0.8, enable_categorical=False,\n",
       "             eta=0.3, gamma=0, gpu_id=-1, importance_type=None,\n",
       "             interaction_constraints='', learning_rate=0.300000012,\n",
       "             max_delta_step=0, max_depth=8, min_child_weight=300, missing=nan,\n",
       "             monotone_constraints='()', n_estimators=1000, n_jobs=8,\n",
       "             num_parallel_tree=1, predictor='auto', random_state=42,\n",
       "             reg_alpha=0, reg_lambda=1, scale_pos_weight=1, seed=42,\n",
       "             subsample=0.8, tree_method='exact', validate_parameters=1,\n",
       "             verbosity=None)"
      ]
     },
     "execution_count": 10,
     "metadata": {},
     "output_type": "execute_result"
    }
   ],
   "source": [
    "from xgboost import XGBRegressor\n",
    "model = XGBRegressor(\n",
    "    max_depth=8,\n",
    "    n_estimators=1000,\n",
    "    min_child_weight=300, \n",
    "    colsample_bytree=0.8, \n",
    "    subsample=0.8, \n",
    "    eta=0.3,    \n",
    "    seed=42)\n",
    "model.fit(\n",
    "    X_train, \n",
    "    y_train, \n",
    "    eval_metric=\"rmse\", \n",
    "    eval_set=[(X_train, y_train), (X_test, y_test)], \n",
    "    verbose=True, \n",
    "    early_stopping_rounds = 10)"
   ]
  },
  {
   "cell_type": "code",
   "execution_count": 11,
   "metadata": {},
   "outputs": [
    {
     "data": {
      "text/plain": [
       "-1.263592655860525"
      ]
     },
     "execution_count": 11,
     "metadata": {},
     "output_type": "execute_result"
    }
   ],
   "source": [
    "from sklearn.ensemble import GradientBoostingRegressor\n",
    "from sklearn.metrics import r2_score\n",
    "\n",
    "reg = GradientBoostingRegressor(random_state=0)\n",
    "reg.fit(X_train, y_train)\n",
    "\n",
    "preds = reg.predict(X_test)\n",
    "\n",
    "r2_score(y_test, preds)"
   ]
  },
  {
   "cell_type": "code",
   "execution_count": 12,
   "metadata": {},
   "outputs": [
    {
     "data": {
      "text/html": [
       "<div>\n",
       "<style scoped>\n",
       "    .dataframe tbody tr th:only-of-type {\n",
       "        vertical-align: middle;\n",
       "    }\n",
       "\n",
       "    .dataframe tbody tr th {\n",
       "        vertical-align: top;\n",
       "    }\n",
       "\n",
       "    .dataframe thead th {\n",
       "        text-align: right;\n",
       "    }\n",
       "</style>\n",
       "<table border=\"1\" class=\"dataframe\">\n",
       "  <thead>\n",
       "    <tr style=\"text-align: right;\">\n",
       "      <th></th>\n",
       "      <th>GTEP</th>\n",
       "      <th>TIT</th>\n",
       "      <th>TEY</th>\n",
       "      <th>CDP</th>\n",
       "    </tr>\n",
       "  </thead>\n",
       "  <tbody>\n",
       "    <tr>\n",
       "      <th>22191</th>\n",
       "      <td>23.152</td>\n",
       "      <td>1067.5</td>\n",
       "      <td>126.16</td>\n",
       "      <td>11.381</td>\n",
       "    </tr>\n",
       "    <tr>\n",
       "      <th>22192</th>\n",
       "      <td>23.207</td>\n",
       "      <td>1067.9</td>\n",
       "      <td>126.51</td>\n",
       "      <td>11.476</td>\n",
       "    </tr>\n",
       "    <tr>\n",
       "      <th>22193</th>\n",
       "      <td>23.296</td>\n",
       "      <td>1068.5</td>\n",
       "      <td>126.96</td>\n",
       "      <td>11.555</td>\n",
       "    </tr>\n",
       "    <tr>\n",
       "      <th>22194</th>\n",
       "      <td>23.465</td>\n",
       "      <td>1069.6</td>\n",
       "      <td>127.83</td>\n",
       "      <td>11.539</td>\n",
       "    </tr>\n",
       "    <tr>\n",
       "      <th>22195</th>\n",
       "      <td>23.205</td>\n",
       "      <td>1068.1</td>\n",
       "      <td>126.56</td>\n",
       "      <td>11.484</td>\n",
       "    </tr>\n",
       "    <tr>\n",
       "      <th>...</th>\n",
       "      <td>...</td>\n",
       "      <td>...</td>\n",
       "      <td>...</td>\n",
       "      <td>...</td>\n",
       "    </tr>\n",
       "    <tr>\n",
       "      <th>36728</th>\n",
       "      <td>19.087</td>\n",
       "      <td>1037.0</td>\n",
       "      <td>109.08</td>\n",
       "      <td>10.411</td>\n",
       "    </tr>\n",
       "    <tr>\n",
       "      <th>36729</th>\n",
       "      <td>19.016</td>\n",
       "      <td>1037.6</td>\n",
       "      <td>108.79</td>\n",
       "      <td>10.344</td>\n",
       "    </tr>\n",
       "    <tr>\n",
       "      <th>36730</th>\n",
       "      <td>18.857</td>\n",
       "      <td>1038.0</td>\n",
       "      <td>107.81</td>\n",
       "      <td>10.462</td>\n",
       "    </tr>\n",
       "    <tr>\n",
       "      <th>36731</th>\n",
       "      <td>23.563</td>\n",
       "      <td>1076.9</td>\n",
       "      <td>131.41</td>\n",
       "      <td>11.771</td>\n",
       "    </tr>\n",
       "    <tr>\n",
       "      <th>36732</th>\n",
       "      <td>22.524</td>\n",
       "      <td>1067.9</td>\n",
       "      <td>125.41</td>\n",
       "      <td>11.462</td>\n",
       "    </tr>\n",
       "  </tbody>\n",
       "</table>\n",
       "<p>14542 rows × 4 columns</p>\n",
       "</div>"
      ],
      "text/plain": [
       "         GTEP     TIT     TEY     CDP\n",
       "22191  23.152  1067.5  126.16  11.381\n",
       "22192  23.207  1067.9  126.51  11.476\n",
       "22193  23.296  1068.5  126.96  11.555\n",
       "22194  23.465  1069.6  127.83  11.539\n",
       "22195  23.205  1068.1  126.56  11.484\n",
       "...       ...     ...     ...     ...\n",
       "36728  19.087  1037.0  109.08  10.411\n",
       "36729  19.016  1037.6  108.79  10.344\n",
       "36730  18.857  1038.0  107.81  10.462\n",
       "36731  23.563  1076.9  131.41  11.771\n",
       "36732  22.524  1067.9  125.41  11.462\n",
       "\n",
       "[14542 rows x 4 columns]"
      ]
     },
     "execution_count": 12,
     "metadata": {},
     "output_type": "execute_result"
    }
   ],
   "source": [
    "X_test"
   ]
  },
  {
   "cell_type": "code",
   "execution_count": 13,
   "metadata": {},
   "outputs": [
    {
     "data": {
      "text/plain": [
       "1.5183467292635477"
      ]
     },
     "execution_count": 13,
     "metadata": {},
     "output_type": "execute_result"
    }
   ],
   "source": [
    "from sklearn.metrics import mean_absolute_error\n",
    "# Mean absolute error\n",
    "mae_test = mean_absolute_error(y_true=y_test, y_pred=preds)\n",
    "mae_test"
   ]
  },
  {
   "cell_type": "code",
   "execution_count": 14,
   "metadata": {},
   "outputs": [],
   "source": [
    "#Defining MAPE function\n",
    "def mape_fun(Y_actual,Y_Predicted):\n",
    "    mape = np.mean(np.abs((Y_actual - Y_Predicted)/Y_actual))*100\n",
    "    return mape"
   ]
  },
  {
   "cell_type": "code",
   "execution_count": 15,
   "metadata": {},
   "outputs": [
    {
     "data": {
      "text/plain": [
       "126.54043034062015"
      ]
     },
     "execution_count": 15,
     "metadata": {},
     "output_type": "execute_result"
    }
   ],
   "source": [
    "mape_fun(y_test,preds)"
   ]
  },
  {
   "cell_type": "code",
   "execution_count": 16,
   "metadata": {},
   "outputs": [],
   "source": [
    "train_data = df[df['Datetime'].dt.year.isin([2011, 2012, 2013])]\n",
    "cols = ['AT']\n",
    "X_train, y_train = train_data[cols], train_data['NOX']\n",
    "test_data = df[df['Datetime'].dt.year.isin([2014, 2015])]\n",
    "X_test, y_test = test_data[cols], test_data['NOX']"
   ]
  },
  {
   "cell_type": "code",
   "execution_count": 17,
   "metadata": {},
   "outputs": [
    {
     "name": "stdout",
     "output_type": "stream",
     "text": [
      "[0]\tvalidation_0-mape:0.69053\tvalidation_1-mape:0.64430\n",
      "[1]\tvalidation_0-mape:0.47903\tvalidation_1-mape:0.40153\n",
      "[2]\tvalidation_0-mape:0.33103\tvalidation_1-mape:0.23331\n",
      "[3]\tvalidation_0-mape:0.22812\tvalidation_1-mape:0.13067\n",
      "[4]\tvalidation_0-mape:0.16111\tvalidation_1-mape:0.09180\n",
      "[5]\tvalidation_0-mape:0.12348\tvalidation_1-mape:0.09405\n",
      "[6]\tvalidation_0-mape:0.10529\tvalidation_1-mape:0.11119\n",
      "[7]\tvalidation_0-mape:0.09687\tvalidation_1-mape:0.12934\n",
      "[8]\tvalidation_0-mape:0.09291\tvalidation_1-mape:0.14391\n",
      "[9]\tvalidation_0-mape:0.09125\tvalidation_1-mape:0.15474\n",
      "[10]\tvalidation_0-mape:0.09062\tvalidation_1-mape:0.16276\n",
      "[11]\tvalidation_0-mape:0.09047\tvalidation_1-mape:0.16842\n",
      "[12]\tvalidation_0-mape:0.09054\tvalidation_1-mape:0.17228\n",
      "[13]\tvalidation_0-mape:0.09065\tvalidation_1-mape:0.17520\n"
     ]
    },
    {
     "data": {
      "text/plain": [
       "XGBRegressor(base_score=0.5, booster='gbtree', colsample_bylevel=1,\n",
       "             colsample_bynode=1, colsample_bytree=0.8, enable_categorical=False,\n",
       "             eta=0.3, gamma=0, gpu_id=-1, importance_type=None,\n",
       "             interaction_constraints='', learning_rate=0.300000012,\n",
       "             max_delta_step=0, max_depth=8, min_child_weight=300, missing=nan,\n",
       "             monotone_constraints='()', n_estimators=1000, n_jobs=8,\n",
       "             num_parallel_tree=1, predictor='auto', random_state=42,\n",
       "             reg_alpha=0, reg_lambda=1, scale_pos_weight=1, seed=42,\n",
       "             subsample=0.8, tree_method='exact', validate_parameters=1,\n",
       "             verbosity=None)"
      ]
     },
     "execution_count": 17,
     "metadata": {},
     "output_type": "execute_result"
    }
   ],
   "source": [
    "from xgboost import XGBRegressor\n",
    "model = XGBRegressor(\n",
    "    max_depth=8,\n",
    "    n_estimators=1000,\n",
    "    min_child_weight=300, \n",
    "    colsample_bytree=0.8, \n",
    "    subsample=0.8, \n",
    "    eta=0.3,    \n",
    "    seed=42)\n",
    "model.fit(\n",
    "    X_train, \n",
    "    y_train, \n",
    "    eval_metric=\"mape\", \n",
    "    eval_set=[(X_train, y_train), (X_test, y_test)], \n",
    "    verbose=True, \n",
    "    early_stopping_rounds = 10)"
   ]
  },
  {
   "cell_type": "code",
   "execution_count": 18,
   "metadata": {},
   "outputs": [
    {
     "data": {
      "text/plain": [
       "-0.2797355550945746"
      ]
     },
     "execution_count": 18,
     "metadata": {},
     "output_type": "execute_result"
    }
   ],
   "source": [
    "reg = GradientBoostingRegressor(random_state=0)\n",
    "reg.fit(X_train, y_train)\n",
    "\n",
    "preds = reg.predict(X_test)\n",
    "\n",
    "r2_score(y_test, preds)"
   ]
  },
  {
   "cell_type": "code",
   "execution_count": 19,
   "metadata": {},
   "outputs": [
    {
     "data": {
      "text/plain": [
       "10.31882195509565"
      ]
     },
     "execution_count": 19,
     "metadata": {},
     "output_type": "execute_result"
    }
   ],
   "source": [
    "mae_test = mean_absolute_error(y_true=y_test, y_pred=preds)\n",
    "mae_test"
   ]
  },
  {
   "cell_type": "code",
   "execution_count": 20,
   "metadata": {},
   "outputs": [
    {
     "data": {
      "text/plain": [
       "18.232777157899395"
      ]
     },
     "execution_count": 20,
     "metadata": {},
     "output_type": "execute_result"
    }
   ],
   "source": [
    "mape_fun(y_test,preds)"
   ]
  },
  {
   "cell_type": "markdown",
   "metadata": {},
   "source": [
    "# Uncertainty Check"
   ]
  },
  {
   "cell_type": "code",
   "execution_count": 21,
   "metadata": {},
   "outputs": [
    {
     "data": {
      "text/html": [
       "<div>\n",
       "<style scoped>\n",
       "    .dataframe tbody tr th:only-of-type {\n",
       "        vertical-align: middle;\n",
       "    }\n",
       "\n",
       "    .dataframe tbody tr th {\n",
       "        vertical-align: top;\n",
       "    }\n",
       "\n",
       "    .dataframe thead th {\n",
       "        text-align: right;\n",
       "    }\n",
       "</style>\n",
       "<table border=\"1\" class=\"dataframe\">\n",
       "  <thead>\n",
       "    <tr style=\"text-align: right;\">\n",
       "      <th></th>\n",
       "      <th>AT</th>\n",
       "      <th>NOX</th>\n",
       "      <th>preds</th>\n",
       "    </tr>\n",
       "  </thead>\n",
       "  <tbody>\n",
       "    <tr>\n",
       "      <th>0</th>\n",
       "      <td>4.5878</td>\n",
       "      <td>81.952</td>\n",
       "      <td>83.029739</td>\n",
       "    </tr>\n",
       "    <tr>\n",
       "      <th>1</th>\n",
       "      <td>4.2932</td>\n",
       "      <td>82.377</td>\n",
       "      <td>81.411301</td>\n",
       "    </tr>\n",
       "    <tr>\n",
       "      <th>2</th>\n",
       "      <td>3.9045</td>\n",
       "      <td>83.776</td>\n",
       "      <td>77.716387</td>\n",
       "    </tr>\n",
       "    <tr>\n",
       "      <th>3</th>\n",
       "      <td>3.7436</td>\n",
       "      <td>82.505</td>\n",
       "      <td>84.458742</td>\n",
       "    </tr>\n",
       "    <tr>\n",
       "      <th>4</th>\n",
       "      <td>3.7516</td>\n",
       "      <td>82.028</td>\n",
       "      <td>84.458742</td>\n",
       "    </tr>\n",
       "    <tr>\n",
       "      <th>...</th>\n",
       "      <td>...</td>\n",
       "      <td>...</td>\n",
       "      <td>...</td>\n",
       "    </tr>\n",
       "    <tr>\n",
       "      <th>22186</th>\n",
       "      <td>4.8631</td>\n",
       "      <td>78.397</td>\n",
       "      <td>81.690456</td>\n",
       "    </tr>\n",
       "    <tr>\n",
       "      <th>22187</th>\n",
       "      <td>4.5173</td>\n",
       "      <td>78.251</td>\n",
       "      <td>82.321128</td>\n",
       "    </tr>\n",
       "    <tr>\n",
       "      <th>22188</th>\n",
       "      <td>4.2717</td>\n",
       "      <td>77.269</td>\n",
       "      <td>81.411301</td>\n",
       "    </tr>\n",
       "    <tr>\n",
       "      <th>22189</th>\n",
       "      <td>4.0853</td>\n",
       "      <td>77.985</td>\n",
       "      <td>81.384856</td>\n",
       "    </tr>\n",
       "    <tr>\n",
       "      <th>22190</th>\n",
       "      <td>4.2148</td>\n",
       "      <td>78.950</td>\n",
       "      <td>80.601517</td>\n",
       "    </tr>\n",
       "  </tbody>\n",
       "</table>\n",
       "<p>22191 rows × 3 columns</p>\n",
       "</div>"
      ],
      "text/plain": [
       "           AT     NOX      preds\n",
       "0      4.5878  81.952  83.029739\n",
       "1      4.2932  82.377  81.411301\n",
       "2      3.9045  83.776  77.716387\n",
       "3      3.7436  82.505  84.458742\n",
       "4      3.7516  82.028  84.458742\n",
       "...       ...     ...        ...\n",
       "22186  4.8631  78.397  81.690456\n",
       "22187  4.5173  78.251  82.321128\n",
       "22188  4.2717  77.269  81.411301\n",
       "22189  4.0853  77.985  81.384856\n",
       "22190  4.2148  78.950  80.601517\n",
       "\n",
       "[22191 rows x 3 columns]"
      ]
     },
     "execution_count": 21,
     "metadata": {},
     "output_type": "execute_result"
    }
   ],
   "source": [
    "# predict the train/test data and Calculate the standard uncertainty of the emission model\n",
    "n = len(X_train)\n",
    "df_train = X_train.join(y_train)\n",
    "df_train['preds'] = reg.predict(X_train)\n",
    "\n",
    "df_train"
   ]
  },
  {
   "cell_type": "code",
   "execution_count": 22,
   "metadata": {},
   "outputs": [
    {
     "data": {
      "text/html": [
       "<div>\n",
       "<style scoped>\n",
       "    .dataframe tbody tr th:only-of-type {\n",
       "        vertical-align: middle;\n",
       "    }\n",
       "\n",
       "    .dataframe tbody tr th {\n",
       "        vertical-align: top;\n",
       "    }\n",
       "\n",
       "    .dataframe thead th {\n",
       "        text-align: right;\n",
       "    }\n",
       "</style>\n",
       "<table border=\"1\" class=\"dataframe\">\n",
       "  <thead>\n",
       "    <tr style=\"text-align: right;\">\n",
       "      <th></th>\n",
       "      <th>AT</th>\n",
       "      <th>NOX</th>\n",
       "      <th>preds</th>\n",
       "      <th>diff</th>\n",
       "    </tr>\n",
       "  </thead>\n",
       "  <tbody>\n",
       "    <tr>\n",
       "      <th>0</th>\n",
       "      <td>4.5878</td>\n",
       "      <td>81.952</td>\n",
       "      <td>83.029739</td>\n",
       "      <td>1.077739</td>\n",
       "    </tr>\n",
       "    <tr>\n",
       "      <th>1</th>\n",
       "      <td>4.2932</td>\n",
       "      <td>82.377</td>\n",
       "      <td>81.411301</td>\n",
       "      <td>0.965699</td>\n",
       "    </tr>\n",
       "    <tr>\n",
       "      <th>2</th>\n",
       "      <td>3.9045</td>\n",
       "      <td>83.776</td>\n",
       "      <td>77.716387</td>\n",
       "      <td>6.059613</td>\n",
       "    </tr>\n",
       "    <tr>\n",
       "      <th>3</th>\n",
       "      <td>3.7436</td>\n",
       "      <td>82.505</td>\n",
       "      <td>84.458742</td>\n",
       "      <td>1.953742</td>\n",
       "    </tr>\n",
       "    <tr>\n",
       "      <th>4</th>\n",
       "      <td>3.7516</td>\n",
       "      <td>82.028</td>\n",
       "      <td>84.458742</td>\n",
       "      <td>2.430742</td>\n",
       "    </tr>\n",
       "    <tr>\n",
       "      <th>...</th>\n",
       "      <td>...</td>\n",
       "      <td>...</td>\n",
       "      <td>...</td>\n",
       "      <td>...</td>\n",
       "    </tr>\n",
       "    <tr>\n",
       "      <th>22186</th>\n",
       "      <td>4.8631</td>\n",
       "      <td>78.397</td>\n",
       "      <td>81.690456</td>\n",
       "      <td>3.293456</td>\n",
       "    </tr>\n",
       "    <tr>\n",
       "      <th>22187</th>\n",
       "      <td>4.5173</td>\n",
       "      <td>78.251</td>\n",
       "      <td>82.321128</td>\n",
       "      <td>4.070128</td>\n",
       "    </tr>\n",
       "    <tr>\n",
       "      <th>22188</th>\n",
       "      <td>4.2717</td>\n",
       "      <td>77.269</td>\n",
       "      <td>81.411301</td>\n",
       "      <td>4.142301</td>\n",
       "    </tr>\n",
       "    <tr>\n",
       "      <th>22189</th>\n",
       "      <td>4.0853</td>\n",
       "      <td>77.985</td>\n",
       "      <td>81.384856</td>\n",
       "      <td>3.399856</td>\n",
       "    </tr>\n",
       "    <tr>\n",
       "      <th>22190</th>\n",
       "      <td>4.2148</td>\n",
       "      <td>78.950</td>\n",
       "      <td>80.601517</td>\n",
       "      <td>1.651517</td>\n",
       "    </tr>\n",
       "  </tbody>\n",
       "</table>\n",
       "<p>22191 rows × 4 columns</p>\n",
       "</div>"
      ],
      "text/plain": [
       "           AT     NOX      preds      diff\n",
       "0      4.5878  81.952  83.029739  1.077739\n",
       "1      4.2932  82.377  81.411301  0.965699\n",
       "2      3.9045  83.776  77.716387  6.059613\n",
       "3      3.7436  82.505  84.458742  1.953742\n",
       "4      3.7516  82.028  84.458742  2.430742\n",
       "...       ...     ...        ...       ...\n",
       "22186  4.8631  78.397  81.690456  3.293456\n",
       "22187  4.5173  78.251  82.321128  4.070128\n",
       "22188  4.2717  77.269  81.411301  4.142301\n",
       "22189  4.0853  77.985  81.384856  3.399856\n",
       "22190  4.2148  78.950  80.601517  1.651517\n",
       "\n",
       "[22191 rows x 4 columns]"
      ]
     },
     "execution_count": 22,
     "metadata": {},
     "output_type": "execute_result"
    }
   ],
   "source": [
    "# the deviation between the emission concentration measured in the field\n",
    "# and the concentration predicted by the PEMS pair\n",
    "df_train['diff'] = np.abs(df_train['preds'] - df_train['NOX'])\n",
    "\n",
    "df_train"
   ]
  },
  {
   "cell_type": "code",
   "execution_count": 23,
   "metadata": {},
   "outputs": [
    {
     "data": {
      "text/plain": [
       "6.277240112159722"
      ]
     },
     "execution_count": 23,
     "metadata": {},
     "output_type": "execute_result"
    }
   ],
   "source": [
    "# the mean of the relative deviation\n",
    "delta_m = (df_train['diff'].sum())/len(df_train)\n",
    "delta_m"
   ]
  },
  {
   "cell_type": "code",
   "execution_count": 24,
   "metadata": {},
   "outputs": [
    {
     "data": {
      "text/plain": [
       "5.841037347914108"
      ]
     },
     "execution_count": 24,
     "metadata": {},
     "output_type": "execute_result"
    }
   ],
   "source": [
    "# calculate u_model of the train data\n",
    "df_train['deltas_diff'] = (df_train['diff'] - delta_m)**2\n",
    "u_train = np.sqrt(df_train['deltas_diff'].sum()/(n-1))\n",
    "u_train"
   ]
  },
  {
   "cell_type": "code",
   "execution_count": 25,
   "metadata": {},
   "outputs": [
    {
     "data": {
      "text/plain": [
       "6.05671206838723"
      ]
     },
     "execution_count": 25,
     "metadata": {},
     "output_type": "execute_result"
    }
   ],
   "source": [
    "df_test = X_test.join(y_test)\n",
    "df_test['preds'] = reg.predict(X_test)\n",
    "df_test['y_test'] = y_test\n",
    "df_test['diff'] = np.abs(df_test['preds'] - df_test['y_test'])\n",
    "delta_m = (df_test['diff'].sum())/len(df_test)\n",
    "df_test['deltas_diff'] = (df_test['diff'] - delta_m)**2\n",
    "u_test = np.sqrt(df_test['deltas_diff'].sum()/(len(df_test)-1))\n",
    "u_test"
   ]
  },
  {
   "cell_type": "code",
   "execution_count": 26,
   "metadata": {},
   "outputs": [
    {
     "data": {
      "text/plain": [
       "6.056503815870506"
      ]
     },
     "execution_count": 26,
     "metadata": {},
     "output_type": "execute_result"
    }
   ],
   "source": [
    "u_test = np.sqrt(df_test['deltas_diff'].sum()/(len(df_test-1)))\n",
    "u_test"
   ]
  },
  {
   "cell_type": "code",
   "execution_count": 27,
   "metadata": {},
   "outputs": [
    {
     "data": {
      "text/plain": [
       "8.414211535930237"
      ]
     },
     "execution_count": 27,
     "metadata": {},
     "output_type": "execute_result"
    }
   ],
   "source": [
    "u_pems = np.sqrt(u_train**2 + u_test**2)\n",
    "u_pems"
   ]
  },
  {
   "cell_type": "code",
   "execution_count": 28,
   "metadata": {},
   "outputs": [
    {
     "data": {
      "text/plain": [
       "92.145"
      ]
     },
     "execution_count": 28,
     "metadata": {},
     "output_type": "execute_result"
    }
   ],
   "source": [
    "c_pems = df_train['NOX'].max() - df_train['NOX'].min()\n",
    "c_pems"
   ]
  },
  {
   "cell_type": "code",
   "execution_count": 29,
   "metadata": {},
   "outputs": [
    {
     "data": {
      "text/plain": [
       "0.17897720560446323"
      ]
     },
     "execution_count": 29,
     "metadata": {},
     "output_type": "execute_result"
    }
   ],
   "source": [
    "U_pems = 1.96*u_pems/c_pems\n",
    "U_pems"
   ]
  },
  {
   "cell_type": "markdown",
   "metadata": {},
   "source": [
    "## Calulcate Confidence Intervall"
   ]
  },
  {
   "cell_type": "code",
   "execution_count": 30,
   "metadata": {},
   "outputs": [],
   "source": [
    "import numpy as np \n",
    "from scipy.stats import t"
   ]
  },
  {
   "cell_type": "code",
   "execution_count": 31,
   "metadata": {},
   "outputs": [],
   "source": [
    "x = df[['NOX']]\n",
    "m = x.mean() \n",
    "s = x.std() \n",
    "dof = len(x)-1 \n",
    "confidence = 0.95"
   ]
  },
  {
   "cell_type": "code",
   "execution_count": 32,
   "metadata": {},
   "outputs": [
    {
     "data": {
      "text/plain": [
       "36732"
      ]
     },
     "execution_count": 32,
     "metadata": {},
     "output_type": "execute_result"
    }
   ],
   "source": [
    "dof"
   ]
  },
  {
   "cell_type": "code",
   "execution_count": 33,
   "metadata": {},
   "outputs": [],
   "source": [
    "t_crit = np.abs(t.ppf((1-confidence)/2,dof))"
   ]
  },
  {
   "cell_type": "code",
   "execution_count": 34,
   "metadata": {},
   "outputs": [
    {
     "data": {
      "text/plain": [
       "1.9600285698627293"
      ]
     },
     "execution_count": 34,
     "metadata": {},
     "output_type": "execute_result"
    }
   ],
   "source": [
    "t_crit"
   ]
  },
  {
   "cell_type": "code",
   "execution_count": 35,
   "metadata": {},
   "outputs": [
    {
     "data": {
      "text/plain": [
       "(NOX    65.173637\n",
       " dtype: float64,\n",
       " NOX    65.412498\n",
       " dtype: float64)"
      ]
     },
     "execution_count": 35,
     "metadata": {},
     "output_type": "execute_result"
    }
   ],
   "source": [
    "(m-s*t_crit/np.sqrt(len(x)), m+s*t_crit/np.sqrt(len(x))) "
   ]
  },
  {
   "cell_type": "code",
   "execution_count": 36,
   "metadata": {},
   "outputs": [
    {
     "data": {
      "text/plain": [
       "NOX    0.119431\n",
       "dtype: float64"
      ]
     },
     "execution_count": 36,
     "metadata": {},
     "output_type": "execute_result"
    }
   ],
   "source": [
    "s*t_crit/np.sqrt(len(x))"
   ]
  }
 ],
 "metadata": {
  "interpreter": {
   "hash": "854e1f39e37c1f3c7b759d65040b61baf6b5ecea292a6acf12895e3741ee9aa7"
  },
  "kernelspec": {
   "display_name": "Python 3",
   "language": "python",
   "name": "python3"
  },
  "language_info": {
   "codemirror_mode": {
    "name": "ipython",
    "version": 3
   },
   "file_extension": ".py",
   "mimetype": "text/x-python",
   "name": "python",
   "nbconvert_exporter": "python",
   "pygments_lexer": "ipython3",
   "version": "3.8.8"
  }
 },
 "nbformat": 4,
 "nbformat_minor": 4
}
